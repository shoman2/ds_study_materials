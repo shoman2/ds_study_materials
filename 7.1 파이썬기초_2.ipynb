{
 "cells": [
  {
   "cell_type": "markdown",
   "metadata": {},
   "source": [
    "# 5. 연산자"
   ]
  },
  {
   "cell_type": "markdown",
   "metadata": {},
   "source": [
    "### 5.1 수치 연산자"
   ]
  },
  {
   "cell_type": "code",
   "execution_count": null,
   "metadata": {},
   "outputs": [],
   "source": [
    "2 + 3"
   ]
  },
  {
   "cell_type": "code",
   "execution_count": null,
   "metadata": {},
   "outputs": [],
   "source": [
    "3 - 2"
   ]
  },
  {
   "cell_type": "code",
   "execution_count": null,
   "metadata": {},
   "outputs": [],
   "source": [
    "2 * 3"
   ]
  },
  {
   "cell_type": "code",
   "execution_count": null,
   "metadata": {},
   "outputs": [],
   "source": [
    "5 / 2"
   ]
  },
  {
   "cell_type": "code",
   "execution_count": null,
   "metadata": {},
   "outputs": [],
   "source": [
    "5 // 2"
   ]
  },
  {
   "cell_type": "code",
   "execution_count": null,
   "metadata": {},
   "outputs": [],
   "source": [
    "5 % 2"
   ]
  },
  {
   "cell_type": "code",
   "execution_count": null,
   "metadata": {},
   "outputs": [],
   "source": [
    "3.14 ** 2"
   ]
  },
  {
   "cell_type": "code",
   "execution_count": null,
   "metadata": {},
   "outputs": [],
   "source": [
    "2 ** 0.5"
   ]
  },
  {
   "cell_type": "code",
   "execution_count": null,
   "metadata": {},
   "outputs": [],
   "source": []
  },
  {
   "cell_type": "markdown",
   "metadata": {},
   "source": [
    "### 5.2 대입 연산자"
   ]
  },
  {
   "cell_type": "code",
   "execution_count": null,
   "metadata": {},
   "outputs": [],
   "source": [
    "a = 20"
   ]
  },
  {
   "cell_type": "code",
   "execution_count": null,
   "metadata": {},
   "outputs": [],
   "source": [
    "a += 5\n",
    "a"
   ]
  },
  {
   "cell_type": "code",
   "execution_count": null,
   "metadata": {},
   "outputs": [],
   "source": [
    "a -= 10\n",
    "a"
   ]
  },
  {
   "cell_type": "code",
   "execution_count": null,
   "metadata": {},
   "outputs": [],
   "source": [
    "a *= 2\n",
    "a"
   ]
  },
  {
   "cell_type": "code",
   "execution_count": null,
   "metadata": {},
   "outputs": [],
   "source": [
    "a /= 3\n",
    "a"
   ]
  },
  {
   "cell_type": "code",
   "execution_count": null,
   "metadata": {},
   "outputs": [],
   "source": [
    "a = 3\n",
    "b = 2\n",
    "a *= 2 + b    # a = a * ( 2 + b )\n",
    "a"
   ]
  },
  {
   "cell_type": "code",
   "execution_count": null,
   "metadata": {},
   "outputs": [],
   "source": []
  },
  {
   "cell_type": "markdown",
   "metadata": {},
   "source": [
    "### 5.3 비교 연산자"
   ]
  },
  {
   "cell_type": "code",
   "execution_count": null,
   "metadata": {},
   "outputs": [],
   "source": [
    "a = 95"
   ]
  },
  {
   "cell_type": "code",
   "execution_count": null,
   "metadata": {},
   "outputs": [],
   "source": [
    "a == 90"
   ]
  },
  {
   "cell_type": "code",
   "execution_count": null,
   "metadata": {},
   "outputs": [],
   "source": [
    "a != 90"
   ]
  },
  {
   "cell_type": "code",
   "execution_count": null,
   "metadata": {},
   "outputs": [],
   "source": [
    "a > 90"
   ]
  },
  {
   "cell_type": "code",
   "execution_count": null,
   "metadata": {},
   "outputs": [],
   "source": [
    "a < 90"
   ]
  },
  {
   "cell_type": "code",
   "execution_count": null,
   "metadata": {},
   "outputs": [],
   "source": [
    "a >= 90"
   ]
  },
  {
   "cell_type": "code",
   "execution_count": null,
   "metadata": {},
   "outputs": [],
   "source": [
    "a <= 90"
   ]
  },
  {
   "cell_type": "code",
   "execution_count": null,
   "metadata": {},
   "outputs": [],
   "source": [
    "a >= 90 and a <= 100"
   ]
  },
  {
   "cell_type": "code",
   "execution_count": null,
   "metadata": {},
   "outputs": [],
   "source": [
    "90 <= a <= 100"
   ]
  },
  {
   "cell_type": "code",
   "execution_count": null,
   "metadata": {},
   "outputs": [],
   "source": [
    "100 <= a <= 110"
   ]
  },
  {
   "cell_type": "code",
   "execution_count": null,
   "metadata": {},
   "outputs": [],
   "source": [
    "70 <= a <= 80"
   ]
  },
  {
   "cell_type": "code",
   "execution_count": null,
   "metadata": {},
   "outputs": [],
   "source": [
    "lst1 = [1,2,'Hello World']\n",
    "lst2 = [1,2,'Hello World']"
   ]
  },
  {
   "cell_type": "code",
   "execution_count": null,
   "metadata": {},
   "outputs": [],
   "source": [
    "id(lst1) == id(lst2)"
   ]
  },
  {
   "cell_type": "code",
   "execution_count": null,
   "metadata": {},
   "outputs": [],
   "source": [
    "lst1 == lst2"
   ]
  },
  {
   "cell_type": "code",
   "execution_count": null,
   "metadata": {},
   "outputs": [],
   "source": [
    "lst1 != lst2"
   ]
  },
  {
   "cell_type": "code",
   "execution_count": null,
   "metadata": {},
   "outputs": [],
   "source": []
  },
  {
   "cell_type": "markdown",
   "metadata": {},
   "source": [
    "### 5.4 논리 연산자"
   ]
  },
  {
   "cell_type": "code",
   "execution_count": null,
   "metadata": {},
   "outputs": [],
   "source": [
    "True and False"
   ]
  },
  {
   "cell_type": "code",
   "execution_count": null,
   "metadata": {},
   "outputs": [],
   "source": [
    "True or False"
   ]
  },
  {
   "cell_type": "code",
   "execution_count": null,
   "metadata": {},
   "outputs": [],
   "source": [
    "not True"
   ]
  },
  {
   "cell_type": "code",
   "execution_count": null,
   "metadata": {},
   "outputs": [],
   "source": []
  },
  {
   "cell_type": "markdown",
   "metadata": {},
   "source": [
    "### 5.5 식별 연산자"
   ]
  },
  {
   "cell_type": "code",
   "execution_count": null,
   "metadata": {},
   "outputs": [],
   "source": [
    "lst1 = [1,2,'Hello World']\n",
    "lst2 = [1,2,'Hello World']"
   ]
  },
  {
   "cell_type": "code",
   "execution_count": null,
   "metadata": {},
   "outputs": [],
   "source": [
    "lst1 is lst2"
   ]
  },
  {
   "cell_type": "code",
   "execution_count": null,
   "metadata": {},
   "outputs": [],
   "source": [
    "lst1 is not lst2"
   ]
  },
  {
   "cell_type": "code",
   "execution_count": null,
   "metadata": {},
   "outputs": [],
   "source": [
    "lst1 == lst2"
   ]
  },
  {
   "cell_type": "code",
   "execution_count": null,
   "metadata": {},
   "outputs": [],
   "source": [
    "id(lst1) == id(lst2)"
   ]
  },
  {
   "cell_type": "code",
   "execution_count": null,
   "metadata": {},
   "outputs": [],
   "source": []
  },
  {
   "cell_type": "markdown",
   "metadata": {},
   "source": [
    "### 5.6 구성원 연산자"
   ]
  },
  {
   "cell_type": "code",
   "execution_count": null,
   "metadata": {},
   "outputs": [],
   "source": [
    "lst = [1,2,'Hello World']"
   ]
  },
  {
   "cell_type": "code",
   "execution_count": null,
   "metadata": {},
   "outputs": [],
   "source": [
    "1 in lst"
   ]
  },
  {
   "cell_type": "code",
   "execution_count": null,
   "metadata": {},
   "outputs": [],
   "source": [
    "3 not in lst"
   ]
  },
  {
   "cell_type": "code",
   "execution_count": null,
   "metadata": {},
   "outputs": [],
   "source": [
    "dic = {'a':1, 'b':2, 'c':3 }"
   ]
  },
  {
   "cell_type": "code",
   "execution_count": null,
   "metadata": {},
   "outputs": [],
   "source": [
    "'a' in dic"
   ]
  },
  {
   "cell_type": "code",
   "execution_count": null,
   "metadata": {},
   "outputs": [],
   "source": [
    "'k' in dic"
   ]
  },
  {
   "cell_type": "code",
   "execution_count": null,
   "metadata": {},
   "outputs": [],
   "source": [
    "1 in dic"
   ]
  },
  {
   "cell_type": "code",
   "execution_count": null,
   "metadata": {},
   "outputs": [],
   "source": []
  },
  {
   "cell_type": "markdown",
   "metadata": {},
   "source": [
    "### 5.7 연산자 활용"
   ]
  },
  {
   "cell_type": "code",
   "execution_count": null,
   "metadata": {},
   "outputs": [],
   "source": [
    "students = [\n",
    "               {'num':'1','name':'김철수','kor':90,'eng':80,'math':85,'total':0,'avg':0.0,'order':0 },\n",
    "               {'num':'2','name':'박제동','kor':90,'eng':85,'math':90,'total':0,'avg':0.0,'order':0 },\n",
    "               {'num':'3','name':'홍길동','kor':80,'eng':80,'math':80,'total':0,'avg':0.0,'order':0 }\n",
    "           ]"
   ]
  },
  {
   "cell_type": "code",
   "execution_count": null,
   "metadata": {},
   "outputs": [],
   "source": [
    "# 학생별 합계 구하기\n",
    "students[0]['total'] = students[0]['kor'] + students[0]['eng'] + students[0]['math']\n",
    "students[1]['total'] = students[1]['kor'] + students[1]['eng'] + students[1]['math']\n",
    "students[2]['total'] = students[2]['kor'] + students[2]['eng'] + students[2]['math']"
   ]
  },
  {
   "cell_type": "code",
   "execution_count": null,
   "metadata": {},
   "outputs": [],
   "source": [
    "print(students[0]['total'])\n",
    "print(students[1]['total'])\n",
    "print(students[2]['total'])"
   ]
  },
  {
   "cell_type": "code",
   "execution_count": null,
   "metadata": {},
   "outputs": [],
   "source": [
    "# 학생별 평균 구하기\n",
    "students[0]['avg'] = students[0]['total'] / 3\n",
    "students[1]['avg'] = students[1]['total'] / 3\n",
    "students[2]['avg'] = students[2]['total'] / 3"
   ]
  },
  {
   "cell_type": "code",
   "execution_count": null,
   "metadata": {},
   "outputs": [],
   "source": [
    "print(students[0]['avg'])\n",
    "print(students[1]['avg'])\n",
    "print(students[2]['avg'])"
   ]
  },
  {
   "cell_type": "code",
   "execution_count": null,
   "metadata": {},
   "outputs": [],
   "source": [
    "# 학급 평균 구하기\n",
    "class_avg = (students[0]['total'] + students[1]['total'] + students[2]['total']) / 3"
   ]
  },
  {
   "cell_type": "code",
   "execution_count": null,
   "metadata": {},
   "outputs": [],
   "source": [
    "print(class_avg)"
   ]
  },
  {
   "cell_type": "code",
   "execution_count": null,
   "metadata": {},
   "outputs": [],
   "source": [
    "# 과목별 평균 구하기\n",
    "kor_avg  = (students[0]['kor']  + students[1]['kor']  + students[2]['kor'])  / 3\n",
    "eng_avg  = (students[0]['eng']  + students[1]['eng']  + students[2]['eng'])  / 3\n",
    "math_avg = (students[0]['math'] + students[1]['math'] + students[2]['math']) / 3"
   ]
  },
  {
   "cell_type": "code",
   "execution_count": null,
   "metadata": {},
   "outputs": [],
   "source": [
    "print(kor_avg)\n",
    "print(eng_avg)\n",
    "print(math_avg)"
   ]
  },
  {
   "cell_type": "markdown",
   "metadata": {},
   "source": [
    "#### <참고> 연산자 우선순위"
   ]
  },
  {
   "cell_type": "code",
   "execution_count": null,
   "metadata": {},
   "outputs": [],
   "source": [
    "1 + 2 * 3 / 4"
   ]
  },
  {
   "cell_type": "code",
   "execution_count": null,
   "metadata": {},
   "outputs": [],
   "source": []
  },
  {
   "cell_type": "markdown",
   "metadata": {},
   "source": [
    "---"
   ]
  },
  {
   "cell_type": "markdown",
   "metadata": {},
   "source": [
    "# 6. 흐름 제어"
   ]
  },
  {
   "cell_type": "markdown",
   "metadata": {},
   "source": [
    "### 6.1 흐름과 흐름 제어"
   ]
  },
  {
   "cell_type": "code",
   "execution_count": null,
   "metadata": {},
   "outputs": [],
   "source": [
    "# first_exam.py\n",
    "\n",
    "print('Hello World')\n",
    "print(1 + 2)\n",
    "print('안녕하세요 파이썬')\n",
    "print('흐름과 흐름 제어 입니다')"
   ]
  },
  {
   "cell_type": "markdown",
   "metadata": {},
   "source": [
    "### 6.2 선택 흐름과 if 문"
   ]
  },
  {
   "cell_type": "markdown",
   "metadata": {},
   "source": [
    "#### if 문만 있는 경우"
   ]
  },
  {
   "cell_type": "code",
   "execution_count": null,
   "metadata": {},
   "outputs": [],
   "source": [
    "# scholarship.py\n",
    "\n",
    "grade = float(input('총 평점을 입력해 주세요: '))\n",
    "\n",
    "if grade >= 4.3:\n",
    "    print('당신은 장학금 수여 대상자 입니다.')\n",
    "    print('축하합니다.')\n",
    "\n",
    "print('공부 열심히 하세요.')"
   ]
  },
  {
   "cell_type": "markdown",
   "metadata": {},
   "source": [
    "#### if else 문"
   ]
  },
  {
   "cell_type": "code",
   "execution_count": null,
   "metadata": {},
   "outputs": [],
   "source": [
    "# odd_or_even.py\n",
    "\n",
    "data = int(input('숫자를 입력하시오: '))\n",
    "\n",
    "if data % 2 == 0:\n",
    "    print('입력된 값은 짝수입니다.')\n",
    "else:\n",
    "    print('입력된 값은 홀수입니다.')\n"
   ]
  },
  {
   "cell_type": "code",
   "execution_count": null,
   "metadata": {},
   "outputs": [],
   "source": [
    "# pass.py\n",
    "\n",
    "score = int(input('점수를 입력하시오: '))\n",
    "\n",
    "if score >= 70:\n",
    "    print('당신은 시험을 통과했습니다.')\n",
    "else:\n",
    "    print('당신은 시험을 통과하지 못했습니다.')\n",
    "    \n",
    "print('공부 열심히 하세요!')\n"
   ]
  },
  {
   "cell_type": "markdown",
   "metadata": {},
   "source": [
    "#### 중첩된 if ~ else ~ 구문"
   ]
  },
  {
   "cell_type": "code",
   "execution_count": null,
   "metadata": {},
   "outputs": [],
   "source": [
    "# check_height.py\n",
    "\n",
    "age = int(input('나이를 입력하시오: '))\n",
    "height = int(input('키를 입력하시오: '))\n",
    "\n",
    "if age >= 40:\n",
    "    if height >= 170:\n",
    "        print('키가 보통 이상 입니다.')\n",
    "    else:\n",
    "        print('키가 보통입니다.')\n",
    "else:\n",
    "    if height >= 175:\n",
    "        print('키가 보통 이상 입니다.')\n",
    "    else:\n",
    "        print('키가 보통입니다.')\n"
   ]
  },
  {
   "cell_type": "markdown",
   "metadata": {},
   "source": [
    "#### if ~ elif ~ 구문"
   ]
  },
  {
   "cell_type": "code",
   "execution_count": null,
   "metadata": {},
   "outputs": [],
   "source": [
    "# grade_if_else.py\n",
    "\n",
    "score = int(input('총점을 입력해 주세요: '))\n",
    "\n",
    "if score >= 90:\n",
    "    print('수')\n",
    "else:\n",
    "    if 80 <= score < 90:\n",
    "        print('우')\n",
    "    else:\n",
    "        if 70 <= score < 80:\n",
    "            print('미')\n",
    "        else:\n",
    "            if 60 <= score < 70:\n",
    "                print('양')\n",
    "            else:\n",
    "                print('가')\n",
    "        "
   ]
  },
  {
   "cell_type": "code",
   "execution_count": null,
   "metadata": {},
   "outputs": [],
   "source": [
    "# grade_elif.py\n",
    "\n",
    "score = int(input('총점을 입력해 주세요: '))\n",
    "\n",
    "if score >= 90:\n",
    "    print('수')\n",
    "elif 80 <= score < 90:\n",
    "    print('우')\n",
    "elif 70 <= score < 80:\n",
    "    print('미')\n",
    "elif 60 <= score < 70:\n",
    "    print('양')\n",
    "else:\n",
    "    print('가')\n",
    "        "
   ]
  },
  {
   "cell_type": "markdown",
   "metadata": {},
   "source": [
    "#### 조건부 표현식 ( 3항 연산자 )"
   ]
  },
  {
   "cell_type": "code",
   "execution_count": null,
   "metadata": {},
   "outputs": [],
   "source": [
    "score = int(input('총점을 입력해 주세요: '))\n",
    "\n",
    "if score >= 60:\n",
    "    message = \"success\"\n",
    "else:\n",
    "    message = \"failure\"\n",
    "    \n",
    "print(message)"
   ]
  },
  {
   "cell_type": "code",
   "execution_count": null,
   "metadata": {},
   "outputs": [],
   "source": [
    "score = int(input('총점을 입력해 주세요: '))\n",
    "\n",
    "message = \"success\" if score >= 60 else \"failure\"\n",
    "\n",
    "print(message)"
   ]
  },
  {
   "cell_type": "markdown",
   "metadata": {},
   "source": [
    "### 6.3 반복 흐름과  for, while 문"
   ]
  },
  {
   "cell_type": "markdown",
   "metadata": {},
   "source": [
    "#### for 문"
   ]
  },
  {
   "cell_type": "code",
   "execution_count": null,
   "metadata": {},
   "outputs": [],
   "source": [
    "# iterable_data.py\n",
    "\n",
    "message = 'Hello!'\n",
    "messages = ['Hello World', '서울과학종합대학원 빅데이터MABA']\n",
    "numbers = (1,2,3)\n",
    "polygon = {'triangle': 2, 'rectangle': 3, 'line': 1}\n",
    "color = {'red', 'green', 'blue'}\n",
    "\n",
    "for item in message:\n",
    "    print(item)\n",
    "\n",
    "print()\n",
    "\n",
    "for item in messages:\n",
    "    print(item)\n",
    "\n",
    "print()\n",
    "\n",
    "for item in numbers:\n",
    "    print(item)\n",
    "\n",
    "print()\n",
    "\n",
    "for item in polygon:\n",
    "    print(item)\n",
    "\n",
    "print()\n",
    "\n",
    "for item in color:\n",
    "    print(item)\n"
   ]
  },
  {
   "cell_type": "code",
   "execution_count": null,
   "metadata": {
    "scrolled": true
   },
   "outputs": [],
   "source": [
    "# sum_numbers.py\n",
    "\n",
    "total = 0\n",
    "\n",
    "for item in [1,2,3,4,5,6,7,8,9,10]:\n",
    "    total = total + item\n",
    "    \n",
    "print('1부터 10까지 합은 ', total, ' 입니다.')\n"
   ]
  },
  {
   "cell_type": "markdown",
   "metadata": {},
   "source": [
    "#### range() 함수"
   ]
  },
  {
   "cell_type": "code",
   "execution_count": null,
   "metadata": {
    "scrolled": true
   },
   "outputs": [],
   "source": [
    "# sum_numbers_range.py\n",
    "\n",
    "total = 0\n",
    "\n",
    "for item in range(1,11):\n",
    "    total = total + item\n",
    "    \n",
    "print('1부터 10까지 합은 ', total, ' 입니다.')\n"
   ]
  },
  {
   "cell_type": "code",
   "execution_count": null,
   "metadata": {
    "scrolled": true
   },
   "outputs": [],
   "source": [
    "# sum_numbers_100.py\n",
    "\n",
    "total = 0\n",
    "\n",
    "for item in range(1,101):\n",
    "    total = total + item\n",
    "    \n",
    "print('1부터 100까지 합은 ', total, ' 입니다.')\n"
   ]
  },
  {
   "cell_type": "code",
   "execution_count": null,
   "metadata": {
    "scrolled": true
   },
   "outputs": [],
   "source": [
    "# sum_even_numbers_100.py\n",
    "\n",
    "total = 0\n",
    "\n",
    "for item in range(0,101,2):\n",
    "    total = total + item\n",
    "    \n",
    "print('1부터 100까지 짝수 합은 ', total, ' 입니다.')\n"
   ]
  },
  {
   "cell_type": "code",
   "execution_count": null,
   "metadata": {
    "scrolled": true
   },
   "outputs": [],
   "source": [
    "# sum_3_or_7_multiple_100.py\n",
    "\n",
    "total = 0\n",
    "\n",
    "for item in range(1,101):\n",
    "    if (item % 3) == 0 or (item % 7) == 0:\n",
    "        total = total + item\n",
    "    \n",
    "print('1부터 100까지에서 3 혹은 7의 배수의 합은 ', total, ' 입니다.')\n"
   ]
  },
  {
   "cell_type": "code",
   "execution_count": null,
   "metadata": {
    "scrolled": true
   },
   "outputs": [],
   "source": [
    "# for_else.py\n",
    "\n",
    "total = 0\n",
    "\n",
    "for item in range(1,101):\n",
    "    total = total + item\n",
    "else:\n",
    "    print('덧셈 작업이 끝났습니다.')\n",
    "    \n",
    "print('1부터 100까지 합은 ', total, ' 입니다.')\n"
   ]
  },
  {
   "cell_type": "code",
   "execution_count": null,
   "metadata": {},
   "outputs": [],
   "source": [
    "# 구구단\n",
    "\n",
    "for i in range(3, 5):\n",
    "\n",
    "    print('--{}단 시작--'.format(i))\n",
    "    \n",
    "    for j in range(1, 10):\n",
    "    \n",
    "        print(i, \"*\", j, \"=\", i * j)\n"
   ]
  },
  {
   "cell_type": "markdown",
   "metadata": {},
   "source": [
    "#### 리스트 내포(List comprehension)"
   ]
  },
  {
   "cell_type": "code",
   "execution_count": null,
   "metadata": {},
   "outputs": [],
   "source": [
    "lst = [1,2,3,4]\n",
    "\n",
    "result = []\n",
    "for num in lst:\n",
    "    result.append(num*3)\n",
    "\n",
    "print(result)"
   ]
  },
  {
   "cell_type": "code",
   "execution_count": null,
   "metadata": {},
   "outputs": [],
   "source": [
    "# list comprehension\n",
    "\n",
    "lst = [1,2,3,4]\n",
    "result = [num * 3 for num in lst]\n",
    "\n",
    "print(result)\n"
   ]
  },
  {
   "cell_type": "code",
   "execution_count": null,
   "metadata": {},
   "outputs": [],
   "source": [
    "# list comprehension with if\n",
    "\n",
    "lst = [1,2,3,4]\n",
    "result = [num * 3 for num in lst if num % 2 == 0]\n",
    "\n",
    "print(result)"
   ]
  },
  {
   "cell_type": "markdown",
   "metadata": {},
   "source": [
    "#### while 문"
   ]
  },
  {
   "cell_type": "code",
   "execution_count": null,
   "metadata": {},
   "outputs": [],
   "source": [
    "# count_10.py\n",
    "\n",
    "count = 1\n",
    "\n",
    "while count <= 10:\n",
    "    print(count)\n",
    "    count = count + 1\n"
   ]
  },
  {
   "cell_type": "code",
   "execution_count": null,
   "metadata": {},
   "outputs": [],
   "source": [
    "# sum_100_while.py\n",
    "\n",
    "count = 1\n",
    "total = 0\n",
    "\n",
    "while count <= 100:\n",
    "    total = total + count\n",
    "    count = count + 1\n",
    "\n",
    "print('1부터 100까지의 합은:', total )\n"
   ]
  },
  {
   "cell_type": "code",
   "execution_count": null,
   "metadata": {},
   "outputs": [],
   "source": [
    "# sum_100_else.py\n",
    "\n",
    "count  = 1\n",
    "result = 0\n",
    "\n",
    "while count <= 100:\n",
    "    result = result + count\n",
    "    count  = count + 1\n",
    "else:\n",
    "    print('덧셈이 작업 완료 되었습니다.')\n",
    "\n",
    "print('1부터 100까지의 합은:', result )\n"
   ]
  },
  {
   "cell_type": "markdown",
   "metadata": {},
   "source": [
    "### 6.4 break 문과 continue 문"
   ]
  },
  {
   "cell_type": "code",
   "execution_count": null,
   "metadata": {},
   "outputs": [],
   "source": [
    "# break_letter.py\n",
    "\n",
    "break_letter = input('중단할 문자를 입력하시오: ')\n",
    "\n",
    "for letter in 'python':\n",
    "    if letter == break_letter:\n",
    "        break\n",
    "    print(letter)\n",
    "    \n",
    "else:\n",
    "    print('모든 문자 출력 완료!')\n"
   ]
  },
  {
   "cell_type": "code",
   "execution_count": null,
   "metadata": {},
   "outputs": [],
   "source": [
    "# continue_letter.py\n",
    "\n",
    "continue_letter = input('건너뛸 문자를 입력하시오: ')\n",
    "\n",
    "for letter in 'python':\n",
    "    if letter == continue_letter:\n",
    "        continue\n",
    "    print(letter)\n",
    "    "
   ]
  },
  {
   "cell_type": "markdown",
   "metadata": {},
   "source": [
    "### 6.5 pass 문"
   ]
  },
  {
   "cell_type": "code",
   "execution_count": null,
   "metadata": {},
   "outputs": [],
   "source": [
    "# pass_exam.py\n",
    "\n",
    "input_letter = input('중단할 문자를 입력하시오: ')\n",
    "\n",
    "for letter in 'python':\n",
    "    if letter == input_letter:\n",
    "        pass\n",
    "    print(letter)\n",
    "    "
   ]
  },
  {
   "cell_type": "markdown",
   "metadata": {},
   "source": [
    "### 6.6 무한 반복"
   ]
  },
  {
   "cell_type": "code",
   "execution_count": null,
   "metadata": {},
   "outputs": [],
   "source": [
    "# draw_polygon.py\n",
    "\n",
    "choice = None\n",
    "\n",
    "while True:\n",
    "    print('1. 원 그리기')\n",
    "    print('2. 사각형 그리기')\n",
    "    print('3. 선 그리기')\n",
    "    print('4. 종료')\n",
    "    \n",
    "    choice = input('메뉴를 선택하시오: ')\n",
    "    \n",
    "    if choice == '1':\n",
    "        print('원 그리기를 선택했습니다.')\n",
    "    elif choice == '2':\n",
    "        print('사각형 그리기를 선택했습니다.')\n",
    "    elif choice == '3':\n",
    "        print('선 그리기를 선택했습니다.')\n",
    "    elif choice == '4':\n",
    "        print('종료합니다.')\n",
    "        break\n",
    "    else:\n",
    "        print('잘못된 선택을 했습니다.')\n"
   ]
  },
  {
   "cell_type": "markdown",
   "metadata": {},
   "source": [
    "### 6.7 예제: 요일 구하기"
   ]
  },
  {
   "cell_type": "markdown",
   "metadata": {},
   "source": [
    "1. 서기 1년 1월 1일은 월요일이다.  \n",
    "<br>\n",
    "1. 윤년을 구하는 공식은 다음과 같다.\n",
    "  - 4로 나누어지는 해는 윤년이다.\n",
    "  - 100으로 나누어지는 해는 윤년이 아니다.\n",
    "  - 400으로 나누어지는 해는 윤년이다."
   ]
  },
  {
   "cell_type": "code",
   "execution_count": null,
   "metadata": {},
   "outputs": [],
   "source": [
    "# calculate_day.py\n",
    "\n",
    "# 년월일을 입력 받는다.\n",
    "year  = int(input('년도를 입력하시오: '))\n",
    "month = int(input('월을 입력하시오: '))\n",
    "day   = int(input('일을 입력하시오: '))\n",
    "\n",
    "total_days = 0\n",
    "\n",
    "# 달별 날수를 리스트로 저장\n",
    "year_month_days = [0,31,28,31,30,31,30,31,31,30,31,30,31]\n",
    "\n",
    "\n",
    "# 서기 1년부터 year-1 까지의 각 년도 별 날수를 합한다.\n",
    "for item in range(1, year):\n",
    "    if item % 400 == 0:                 # 400으로 나뉘는 해: 윤년\n",
    "        total_days = total_days + 366\n",
    "    elif item % 100 == 0:               # 100으로 나뉘는 해: 평년\n",
    "        total_days = total_days + 365\n",
    "    elif item % 4 == 0:                 # 4으로 나뉘는 해  : 윤년\n",
    "        total_days = total_days + 366\n",
    "    else:\n",
    "        total_days = total_days + 365\n",
    "\n",
    "\n",
    "# 1월 달부터 month-1 까지의 각 달의 날수를 합한다.\n",
    "for item in range(1, month):\n",
    "    total_days = total_days + year_month_days[item]\n",
    "    \n",
    "\n",
    "# 입력된 달이 3이상이고 해당년도가 윤년일 경우 1을 추가\n",
    "if month >= 3:\n",
    "    if year % 400 == 0:                 # 400으로 나뉘는 해: 윤년\n",
    "        total_days = total_days + 1\n",
    "    elif year % 100 == 0:               # 100으로 나뉘는 해: 평년\n",
    "        total_days = total_days + 0\n",
    "    elif year % 4 == 0:                 # 4으로 나뉘는 해  : 윤년\n",
    "        total_days = total_days + 1\n",
    "    else:\n",
    "        total_days = total_days + 0\n",
    "\n",
    "\n",
    "total_days += day\n",
    "\n",
    "# 총 날수를 7로 나눈 나머지를 구한다.\n",
    "remainder = total_days % 7\n",
    "\n",
    "if remainder == 0:\n",
    "    print('일요일 입니다.')\n",
    "elif remainder == 1:\n",
    "    print('월요일 입니다.')\n",
    "elif remainder == 2:\n",
    "    print('화요일 입니다.')\n",
    "elif remainder == 3:\n",
    "    print('수요일 입니다.')\n",
    "elif remainder == 4:\n",
    "    print('목요일 입니다.')\n",
    "elif remainder == 5:\n",
    "    print('금요일 입니다.')\n",
    "elif remainder == 6:\n",
    "    print('토요일 입니다.')\n"
   ]
  },
  {
   "cell_type": "markdown",
   "metadata": {},
   "source": [
    "### 6.8 예제: 성적 처리 시스템"
   ]
  },
  {
   "cell_type": "code",
   "execution_count": 1,
   "metadata": {},
   "outputs": [
    {
     "name": "stdout",
     "output_type": "stream",
     "text": [
      "번호: 1, 이름: 김철수, 국어: 90, 영어: 80, 수학: 85, 총점: 255, 평균: 85.00\n",
      "번호: 2, 이름: 박제동, 국어: 90, 영어: 85, 수학: 90, 총점: 265, 평균: 88.33\n",
      "번호: 3, 이름: 홍길동, 국어: 80, 영어: 80, 수학: 80, 총점: 240, 평균: 80.00\n",
      "\n",
      "반 평균  : 253.33\n",
      "국어 평균: 86.67\n",
      "영어 평균: 81.67\n",
      "수학 평균: 85.00\n"
     ]
    }
   ],
   "source": [
    "# stduent_grade.py\n",
    "\n",
    "# 학생 데이터 초기화\n",
    "students = [\n",
    "               {'num':'1','name':'김철수','kor':90,'eng':80,'math':85,'total':0,'avg':0.0,'order':0 },\n",
    "               {'num':'2','name':'박제동','kor':90,'eng':85,'math':90,'total':0,'avg':0.0,'order':0 },\n",
    "               {'num':'3','name':'홍길동','kor':80,'eng':80,'math':80,'total':0,'avg':0.0,'order':0 }\n",
    "           ]\n",
    "\n",
    "\n",
    "# 반 총점, 평균 및 각 과목별 총점과 평균 초기화\n",
    "class_total = 0\n",
    "class_avg   = 0.0\n",
    "kor_total   = 0\n",
    "kor_avg     = 0.0\n",
    "eng_total   = 0\n",
    "eng_avg     = 0.0\n",
    "math_total  = 0\n",
    "math_avg    = 0.0\n",
    "\n",
    "\n",
    "# 학생들의 성적 총점과 평균 및 반 총점과 과목별 총점을 구한다.\n",
    "for student in students:\n",
    "    student['total'] = student['kor'] + student['eng'] + student['math']\n",
    "    student['avg']   = student['total'] / 3\n",
    "    \n",
    "    class_total = class_total + student['total']\n",
    "    kor_total   = kor_total   + student['kor']\n",
    "    eng_total   = eng_total   + student['eng']\n",
    "    math_total  = math_total  + student['math']\n",
    "\n",
    "class_avg = class_total / len(students)\n",
    "kor_avg   = kor_total   / len(students)\n",
    "eng_avg   = eng_total   / len(students)\n",
    "math_avg  = math_total  / len(students)\n",
    "\n",
    "\n",
    "# 학생별 성적 처리 결과를 출력한다.\n",
    "for student in students:\n",
    "    print('번호: {:s}, 이름: {:s}, 국어: {:d}, 영어: {:d}, 수학: {:d}, 총점: {:d}, 평균: {:.2f}'.format(\n",
    "           student['num'], student['name'],\n",
    "           student['kor'], student['eng'], student['math'],\n",
    "           student['total'], student['avg'])\n",
    "         )\n",
    "print()\n",
    "\n",
    "\n",
    "# 반 평균 및 각 과목별 평균을 출력한다.\n",
    "print('반 평균  : {:.2f}'.format(class_avg))\n",
    "print('국어 평균: {:.2f}'.format(kor_avg)  ) \n",
    "print('영어 평균: {:.2f}'.format(eng_avg)  )\n",
    "print('수학 평균: {:.2f}'.format(math_avg) )\n"
   ]
  },
  {
   "cell_type": "markdown",
   "metadata": {},
   "source": [
    "### 6.9 예제: 모스부호"
   ]
  },
  {
   "cell_type": "code",
   "execution_count": null,
   "metadata": {},
   "outputs": [],
   "source": [
    "# 모스부호\n",
    "dic = {\n",
    "    '.-': 'A', '-...': 'B', '-.-.': 'C', '-..': 'D', '.':'E', '..-.': 'F',\n",
    "    '--.': 'G', '....': 'H', '..': 'I', '.---': 'J', '-.-': 'K', '.-..': 'L',\n",
    "    '--': 'M', '-.': 'N', '---': 'O', '.--.': 'P', '--.-': 'Q', '.-.': 'R',\n",
    "    '...': 'S', '-': 'T', '..-': 'U', '...-': 'V', '.--': 'W', '-..-': 'X',\n",
    "    '-.--': 'Y', '--..': 'Z'\n",
    "}\n",
    " \n",
    "# 풀어야할 암호: HE SLEEPS EARLY\n",
    "code = '.... .  ... .-.. . . .--. ...  . .- .-. .-.. -.--'\n"
   ]
  },
  {
   "cell_type": "code",
   "execution_count": null,
   "metadata": {},
   "outputs": [],
   "source": [
    "# Write your code below.\n",
    "\n",
    "for word in code.split(\"  \"):\n",
    "    for char in word.split():\n",
    "        print(dic.get(char), end='')\n",
    "    print(\" \", end='')"
   ]
  },
  {
   "cell_type": "markdown",
   "metadata": {},
   "source": [
    "### 6.10 예제: 게시글 제목 추출"
   ]
  },
  {
   "cell_type": "code",
   "execution_count": null,
   "metadata": {},
   "outputs": [],
   "source": [
    "# 게시글 제목\n",
    "title = \"\"\"On top of the world! Life is so fantastic if you just let it.\n",
    "I have never been happier. #nyc #newyork #vacation #traveling\"\"\"\n",
    "\n",
    "tag_list = []\n",
    "for tag in title.split(\" \"):\n",
    "    if tag.startswith(\"#\"):\n",
    "        tag_list.append(tag[1:])\n",
    "\n",
    "print(tag_list)"
   ]
  },
  {
   "cell_type": "markdown",
   "metadata": {},
   "source": [
    "---"
   ]
  },
  {
   "cell_type": "markdown",
   "metadata": {},
   "source": [
    "# 기타"
   ]
  },
  {
   "cell_type": "markdown",
   "metadata": {},
   "source": [
    "### enumerate()"
   ]
  },
  {
   "cell_type": "code",
   "execution_count": null,
   "metadata": {},
   "outputs": [],
   "source": [
    "some_list = ['foo', 'bar', 'baz']\n",
    "for i, v in enumerate(some_list):\n",
    "    print('i: {}, v: {}'.format(i,v))\n"
   ]
  },
  {
   "cell_type": "markdown",
   "metadata": {},
   "source": [
    "### zip()"
   ]
  },
  {
   "cell_type": "code",
   "execution_count": null,
   "metadata": {},
   "outputs": [],
   "source": [
    "seq1 = ['foo', 'bar', 'baz']\n",
    "seq2 = ['one', 'two', 'three']\n",
    "\n",
    "for a, b in zip(seq1, seq2):\n",
    "    print('a: {}, b: {}'.format(a, b))\n"
   ]
  },
  {
   "cell_type": "markdown",
   "metadata": {},
   "source": [
    "### 리스트, 사전 내포(comprehension)"
   ]
  },
  {
   "cell_type": "code",
   "execution_count": null,
   "metadata": {},
   "outputs": [],
   "source": [
    "strings = ['a', 'as', 'bat', 'car', 'dove', 'python']"
   ]
  },
  {
   "cell_type": "code",
   "execution_count": null,
   "metadata": {},
   "outputs": [],
   "source": [
    "# list\n",
    "lst = [x.upper() for x in strings if len(x) > 2]\n",
    "lst"
   ]
  },
  {
   "cell_type": "code",
   "execution_count": null,
   "metadata": {},
   "outputs": [],
   "source": [
    "# dict\n",
    "dic = {key: index for index, key in enumerate(strings)}\n",
    "dic"
   ]
  },
  {
   "cell_type": "markdown",
   "metadata": {},
   "source": [
    "---"
   ]
  },
  {
   "cell_type": "code",
   "execution_count": null,
   "metadata": {},
   "outputs": [],
   "source": [
    "# end of file"
   ]
  },
  {
   "cell_type": "code",
   "execution_count": null,
   "metadata": {},
   "outputs": [],
   "source": []
  }
 ],
 "metadata": {
  "kernelspec": {
   "display_name": "Python 3",
   "language": "python",
   "name": "python3"
  },
  "language_info": {
   "codemirror_mode": {
    "name": "ipython",
    "version": 3
   },
   "file_extension": ".py",
   "mimetype": "text/x-python",
   "name": "python",
   "nbconvert_exporter": "python",
   "pygments_lexer": "ipython3",
   "version": "3.7.1"
  }
 },
 "nbformat": 4,
 "nbformat_minor": 2
}
