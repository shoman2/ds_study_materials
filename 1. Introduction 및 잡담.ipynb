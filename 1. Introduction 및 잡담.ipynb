{
 "cells": [
  {
   "cell_type": "markdown",
   "metadata": {},
   "source": [
    "## 1. 데이터 사이언스 독학관련 Introduction"
   ]
  },
  {
   "cell_type": "markdown",
   "metadata": {},
   "source": [
    "#### - 언젠간 데이터 사이언티스트로 활동을 할 날을 꿈꾸며, 스스로 스터디하고 그 내용을 정리하여 Github에 꾸준히 올려보려합니다. 할 수 있겠지용 .. ? \n",
    "#### - 개인적으로 전혀 공학 Base가 없으며, 해외에서 경영대에서 회계학을 전공하고 현재 글로벌 4대 회계법인에서 일하고 있습니다. \n",
    "#### - 현재 수행하는 Tax 관련 업무에 데이터 사이언스가 Fully 적용되진 않고있으나 곧 빠른시일내에 적용이 되지 않을까 하는.. 생각이 듭니다.\n",
    "#### - Data에 대한, 특히나 재무 및 회계 데이터에 대한 분석의 기회는 많았으나, 엑셀의 한계를 경험하였으며, 진행하는 업무의 대부분을 파이썬으로 구현해 보는것이 1차적인 목표입니다.\n",
    "\n",
    "#### -궁극적으로는 업계를 떠날지언정, 가슴뛸것만 같은 데이터 사이언티스트, 또는 데이터 분석가 등으로 일해보고 싶습니다.\n",
    "\n",
    "#### - 오늘 그 대망의 서사를 시작합니다. Github이 엄청 어려운 것인줄 알고 겁먹었던 제 자신이 부끄럽네요. "
   ]
  },
  {
   "cell_type": "markdown",
   "metadata": {},
   "source": [
    "\n"
   ]
  }
 ],
 "metadata": {
  "kernelspec": {
   "display_name": "Python 3",
   "language": "python",
   "name": "python3"
  },
  "language_info": {
   "codemirror_mode": {
    "name": "ipython",
    "version": 3
   },
   "file_extension": ".py",
   "mimetype": "text/x-python",
   "name": "python",
   "nbconvert_exporter": "python",
   "pygments_lexer": "ipython3",
   "version": "3.6.5"
  }
 },
 "nbformat": 4,
 "nbformat_minor": 2
}
