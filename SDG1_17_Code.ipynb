{
  "nbformat": 4,
  "nbformat_minor": 0,
  "metadata": {
    "colab": {
      "name": "SDG1_17 Code.ipynb",
      "version": "0.3.2",
      "provenance": [],
      "include_colab_link": true
    },
    "kernelspec": {
      "name": "python3",
      "display_name": "Python 3"
    },
    "accelerator": "GPU"
  },
  "cells": [
    {
      "cell_type": "markdown",
      "metadata": {
        "id": "view-in-github",
        "colab_type": "text"
      },
      "source": [
        "<a href=\"https://colab.research.google.com/github/shoman2/ds_study_materials/blob/host_1/SDG1_17_Code.ipynb\" target=\"_parent\"><img src=\"https://colab.research.google.com/assets/colab-badge.svg\" alt=\"Open In Colab\"/></a>"
      ]
    },
    {
      "cell_type": "code",
      "metadata": {
        "id": "bP7XDqlIV42f",
        "colab_type": "code",
        "colab": {
          "base_uri": "https://localhost:8080/",
          "height": 89
        },
        "outputId": "0226b212-18b2-4b32-8a75-e04e93612f39"
      },
      "source": [
        "import pandas as pd\n",
        "import gensim.downloader as api\n",
        "\n",
        "wv_wiki = api.load(\"glove-wiki-gigaword-100\")"
      ],
      "execution_count": 1,
      "outputs": [
        {
          "output_type": "stream",
          "text": [
            "[==================================================] 100.0% 128.1/128.1MB downloaded\n"
          ],
          "name": "stdout"
        },
        {
          "output_type": "stream",
          "text": [
            "/usr/local/lib/python3.6/dist-packages/smart_open/smart_open_lib.py:398: UserWarning: This function is deprecated, use smart_open.open instead. See the migration notes for details: https://github.com/RaRe-Technologies/smart_open/blob/master/README.rst#migrating-to-the-new-open-function\n",
            "  'See the migration notes for details: %s' % _MIGRATION_NOTES_URL\n"
          ],
          "name": "stderr"
        }
      ]
    },
    {
      "cell_type": "code",
      "metadata": {
        "id": "DBNr4sDtV7C4",
        "colab_type": "code",
        "colab": {}
      },
      "source": [
        "def cmp_word( word1, word2, sim_std = 0.7):\n",
        "    try:\n",
        "        sim = wv_wiki.similarity(word1, word2)\n",
        "        if sim >= sim_std:\n",
        "            return True\n",
        "        else:\n",
        "            return False\n",
        "    except:\n",
        "        return False"
      ],
      "execution_count": 0,
      "outputs": []
    },
    {
      "cell_type": "code",
      "metadata": {
        "id": "9VTE_3xqV_PG",
        "colab_type": "code",
        "colab": {}
      },
      "source": [
        "const_point_pos = 1.0\n",
        "const_point_neg = -1.0\n",
        "const_point_neu = 0.1\n",
        "\n",
        "df_nescafe = pd.read_csv('MAGGI0_translated.csv', encoding='utf-8')\n",
        "df_sdg = pd.read_csv('Compiled-Keywords-for-SDG-Mapping_Final_17-05-10_c.csv', encoding='utf-8')"
      ],
      "execution_count": 0,
      "outputs": []
    },
    {
      "cell_type": "code",
      "metadata": {
        "id": "73-b93U7V_Zf",
        "colab_type": "code",
        "colab": {}
      },
      "source": [
        "list_sdg_1 = df_sdg['SDG 1']\n",
        "list_sdg_2 = df_sdg['SDG 2']\n",
        "list_sdg_3 = df_sdg['SDG 3']\n",
        "list_sdg_4 = df_sdg['SDG 4']\n",
        "list_sdg_5 = df_sdg['SDG 5']\n",
        "list_sdg_6 = df_sdg['SDG 6']\n",
        "list_sdg_7 = df_sdg['SDG 7']\n",
        "list_sdg_8 = df_sdg['SDG 8']\n",
        "list_sdg_9 = df_sdg['SDG 9']\n",
        "list_sdg_10 = df_sdg['SDG 10']\n",
        "list_sdg_11 = df_sdg['SDG 11']\n",
        "list_sdg_12 = df_sdg['SDG 12']\n",
        "list_sdg_13 = df_sdg['SDG 13']\n",
        "list_sdg_14 = df_sdg['SDG 14']\n",
        "list_sdg_15 = df_sdg['SDG 15']\n",
        "list_sdg_16 = df_sdg['SDG 16']\n",
        "list_sdg_17 = df_sdg['SDG 17']\n",
        "\n",
        "list_sdg_1 = [item for item in list_sdg_1 if str(item) != 'nan']\n",
        "list_sdg_2 = [item for item in list_sdg_2 if str(item) != 'nan']\n",
        "list_sdg_3 = [item for item in list_sdg_3 if str(item) != 'nan']\n",
        "list_sdg_4 = [item for item in list_sdg_4 if str(item) != 'nan']\n",
        "list_sdg_5 = [item for item in list_sdg_5 if str(item) != 'nan']\n",
        "list_sdg_6 = [item for item in list_sdg_6 if str(item) != 'nan']\n",
        "list_sdg_7 = [item for item in list_sdg_7 if str(item) != 'nan']\n",
        "list_sdg_8 = [item for item in list_sdg_8 if str(item) != 'nan']\n",
        "list_sdg_9 = [item for item in list_sdg_9 if str(item) != 'nan']\n",
        "list_sdg_10 = [item for item in list_sdg_10 if str(item) != 'nan']\n",
        "list_sdg_11 = [item for item in list_sdg_11 if str(item) != 'nan']\n",
        "list_sdg_12 = [item for item in list_sdg_12 if str(item) != 'nan']\n",
        "list_sdg_13 = [item for item in list_sdg_13 if str(item) != 'nan']\n",
        "list_sdg_14 = [item for item in list_sdg_14 if str(item) != 'nan']\n",
        "list_sdg_15 = [item for item in list_sdg_15 if str(item) != 'nan']\n",
        "list_sdg_16 = [item for item in list_sdg_16 if str(item) != 'nan']\n",
        "list_sdg_17 = [item for item in list_sdg_17 if str(item) != 'nan']\n",
        "\n",
        "i = -1\n",
        "j = 1\n",
        "sdg_1_qty = 0\n",
        "sdg_1_pos_qty = 0\n",
        "sdg_1_neg_qty = 0\n",
        "sdg_1_neu_qty = 0\n",
        "sdg_1_point = 0.0\n",
        "\n",
        "sdg_2_qty = 0\n",
        "sdg_2_pos_qty = 0\n",
        "sdg_2_neg_qty = 0\n",
        "sdg_2_neu_qty = 0\n",
        "sdg_2_point = 0.0\n",
        "\n",
        "sdg_3_qty = 0\n",
        "sdg_3_pos_qty = 0\n",
        "sdg_3_neg_qty = 0\n",
        "sdg_3_neu_qty = 0\n",
        "sdg_3_point = 0.0\n",
        "\n",
        "sdg_4_qty = 0\n",
        "sdg_4_pos_qty = 0\n",
        "sdg_4_neg_qty = 0\n",
        "sdg_4_neu_qty = 0\n",
        "sdg_4_point = 0.0\n",
        "\n",
        "sdg_5_qty = 0\n",
        "sdg_5_pos_qty = 0\n",
        "sdg_5_neg_qty = 0\n",
        "sdg_5_neu_qty = 0\n",
        "sdg_5_point = 0.0\n",
        "\n",
        "sdg_6_qty = 0\n",
        "sdg_6_pos_qty = 0\n",
        "sdg_6_neg_qty = 0\n",
        "sdg_6_neu_qty = 0\n",
        "sdg_6_point = 0.0\n",
        "\n",
        "sdg_7_qty = 0\n",
        "sdg_7_pos_qty = 0\n",
        "sdg_7_neg_qty = 0\n",
        "sdg_7_neu_qty = 0\n",
        "sdg_7_point = 0.0\n",
        "\n",
        "sdg_8_qty = 0\n",
        "sdg_8_pos_qty = 0\n",
        "sdg_8_neg_qty = 0\n",
        "sdg_8_neu_qty = 0\n",
        "sdg_8_point = 0.0\n",
        "\n",
        "sdg_9_qty = 0\n",
        "sdg_9_pos_qty = 0\n",
        "sdg_9_neg_qty = 0\n",
        "sdg_9_neu_qty = 0\n",
        "sdg_9_point = 0.0\n",
        "\n",
        "sdg_10_qty = 0\n",
        "sdg_10_pos_qty = 0\n",
        "sdg_10_neg_qty = 0\n",
        "sdg_10_neu_qty = 0\n",
        "sdg_10_point = 0.0\n",
        "\n",
        "sdg_11_qty = 0\n",
        "sdg_11_pos_qty = 0\n",
        "sdg_11_neg_qty = 0\n",
        "sdg_11_neu_qty = 0\n",
        "sdg_11_point = 0.0\n",
        "\n",
        "sdg_12_qty = 0\n",
        "sdg_12_pos_qty = 0\n",
        "sdg_12_neg_qty = 0\n",
        "sdg_12_neu_qty = 0\n",
        "sdg_12_point = 0.0\n",
        "\n",
        "sdg_13_qty = 0\n",
        "sdg_13_pos_qty = 0\n",
        "sdg_13_neg_qty = 0\n",
        "sdg_13_neu_qty = 0\n",
        "sdg_13_point = 0.0\n",
        "\n",
        "sdg_14_qty = 0\n",
        "sdg_14_pos_qty = 0\n",
        "sdg_14_neg_qty = 0\n",
        "sdg_14_neu_qty = 0\n",
        "sdg_14_point = 0.0\n",
        "\n",
        "sdg_15_qty = 0\n",
        "sdg_15_pos_qty = 0\n",
        "sdg_15_neg_qty = 0\n",
        "sdg_15_neu_qty = 0\n",
        "sdg_15_point = 0.0\n",
        "\n",
        "sdg_16_qty = 0\n",
        "sdg_16_pos_qty = 0\n",
        "sdg_16_neg_qty = 0\n",
        "sdg_16_neu_qty = 0\n",
        "sdg_16_point = 0.0\n",
        "\n",
        "sdg_17_qty = 0\n",
        "sdg_17_pos_qty = 0\n",
        "sdg_17_neg_qty = 0\n",
        "sdg_17_neu_qty = 0\n",
        "sdg_17_point = 0.0\n",
        "\n",
        "err = 0"
      ],
      "execution_count": 0,
      "outputs": []
    },
    {
      "cell_type": "code",
      "metadata": {
        "id": "mTGRAYIDV_ca",
        "colab_type": "code",
        "colab": {}
      },
      "source": [
        "i = -1\n",
        "j = 1\n",
        "err = 0\n",
        "my_df = pd.DataFrame()\n",
        "\n",
        "def classify(df, category, word, list_sdg, i):\n",
        "    point = 0.0\n",
        "    qty = 0\n",
        "    pos_qty = 0\n",
        "    neg_qty = 0\n",
        "    neu_qty = 0\n",
        "    for dic in list_sdg:\n",
        "        if (cmp_word(word, dic)):\n",
        "            qty = 1\n",
        "            sentiment = df_nescafe.SENTIMENT[i]\n",
        "            region = df_nescafe.REGION[i]\n",
        "            if (sentiment == \"Positive\"):\n",
        "                point = const_point_pos\n",
        "                pos_qty = 1\n",
        "            elif (sentiment == \"Negative\"):\n",
        "                point = const_point_neg\n",
        "                neg_qty = 1\n",
        "            else:\n",
        "                point = const_point_neu\n",
        "                neu_qty = 1\n",
        "            break\n",
        "\n",
        "    if (qty > 0):\n",
        "       temp = pd.DataFrame(data=[[category, qty, pos_qty, neg_qty, neu_qty, point, region]])\n",
        "       df = df.append(temp)\n",
        "\n",
        "    return df\n",
        "\n",
        "\n",
        "for line in df_nescafe.EN_CONTENTS:\n",
        "    i = i + 1\n",
        "\n",
        "    if (str(line)==\"\" or str(line)==\"nan\"):\n",
        "        err = err + 1\n",
        "        continue\n",
        "\n",
        "    try:\n",
        "        for word in line.split():\n",
        "            my_df = classify(my_df, 'SDG 1', word, list_sdg_1, i)\n",
        "            my_df = classify(my_df, 'SDG 2', word, list_sdg_2, i)\n",
        "            my_df = classify(my_df, 'SDG 3', word, list_sdg_3, i)\n",
        "            my_df = classify(my_df, 'SDG 4', word, list_sdg_4, i)\n",
        "            my_df = classify(my_df, 'SDG 5', word, list_sdg_5, i)\n",
        "            my_df = classify(my_df, 'SDG 6', word, list_sdg_6, i)\n",
        "            my_df = classify(my_df, 'SDG 7', word, list_sdg_7, i)\n",
        "            my_df = classify(my_df, 'SDG 8', word, list_sdg_8, i)\n",
        "            my_df = classify(my_df, 'SDG 9', word, list_sdg_9, i)\n",
        "            my_df = classify(my_df, 'SDG 10', word, list_sdg_10, i)\n",
        "            my_df = classify(my_df, 'SDG 11', word, list_sdg_11, i)\n",
        "            my_df = classify(my_df, 'SDG 12', word, list_sdg_12, i)\n",
        "            my_df = classify(my_df, 'SDG 13', word, list_sdg_13, i)\n",
        "            my_df = classify(my_df, 'SDG 14', word, list_sdg_14, i)\n",
        "            my_df = classify(my_df, 'SDG 15', word, list_sdg_15, i)\n",
        "            my_df = classify(my_df, 'SDG 16', word, list_sdg_16, i)\n",
        "            my_df = classify(my_df, 'SDG 17', word, list_sdg_17, i)\n",
        "\n",
        "    except:\n",
        "        err = err + 1\n",
        "\n",
        "my_df.columns = ['SDG ID', 'Qty', 'Positive Qty', 'Negative Qty', 'Neutral Qty', 'Point', 'Region']\n",
        "\n",
        "print (\"Total Qty = \", i)\n",
        "print (\"Skipped Qty = \", err)\n",
        "#print (\"=========================\")\n",
        "#print(my_df)\n",
        "print (\"==TotalBySDG_sim=======================\")\n",
        "TotalBySDG_sim = my_df.groupby([\"SDG ID\"]).sum()\n",
        "print(TotalBySDG_sim)\n",
        "print (\"==TotalBySDGandRegion=======================\")\n",
        "TotalBySDGandRegion_sim = my_df.groupby([\"SDG ID\", 'Region']).sum()\n",
        "print(TotalBySDGandRegion_sim)"
      ],
      "execution_count": 0,
      "outputs": []
    },
    {
      "cell_type": "code",
      "metadata": {
        "id": "NPFriR4zV_f_",
        "colab_type": "code",
        "colab": {}
      },
      "source": [
        "##Export to csv\n",
        "TotalBySDG_sim.to_csv(\"TotalBySDG_sim.csv\", header=True, index=True, encoding='utf-8')\n",
        "TotalBySDGandRegion_sim.to_csv(\"TotalBySDGandRegion_sim.csv\", header=True, index=True, encoding='utf-8')"
      ],
      "execution_count": 0,
      "outputs": []
    },
    {
      "cell_type": "code",
      "metadata": {
        "id": "GBM2lvM2V_m6",
        "colab_type": "code",
        "colab": {}
      },
      "source": [
        ""
      ],
      "execution_count": 0,
      "outputs": []
    },
    {
      "cell_type": "code",
      "metadata": {
        "id": "Qql1-wvGV_pT",
        "colab_type": "code",
        "colab": {}
      },
      "source": [
        ""
      ],
      "execution_count": 0,
      "outputs": []
    },
    {
      "cell_type": "code",
      "metadata": {
        "id": "DtH-c3rgV_sD",
        "colab_type": "code",
        "colab": {}
      },
      "source": [
        ""
      ],
      "execution_count": 0,
      "outputs": []
    },
    {
      "cell_type": "code",
      "metadata": {
        "id": "zO9C5dtmV_ig",
        "colab_type": "code",
        "colab": {}
      },
      "source": [
        ""
      ],
      "execution_count": 0,
      "outputs": []
    }
  ]
}