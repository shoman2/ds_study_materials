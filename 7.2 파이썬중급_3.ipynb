{
 "cells": [
  {
   "cell_type": "markdown",
   "metadata": {},
   "source": [
    "# 10. 파일 입출력"
   ]
  },
  {
   "cell_type": "markdown",
   "metadata": {},
   "source": [
    "### 10.1 파일 생성 및 열기"
   ]
  },
  {
   "cell_type": "markdown",
   "metadata": {},
   "source": [
    "<center>파일 열기 모드</center>| <center>설 명</center>\n",
    "----|----\n",
    "<center>'r'</center> | <div style=\"text-align: left\">읽기 모드로 연다. - Default</div>\n",
    "<center>'w'</center> | <div style=\"text-align: left\">쓰기 모드로 연다. - 기존 내용 삭제</div>\n",
    "<center>'a'</center> | <div style=\"text-align: left\">추가 모드로 연다.</div>    \n",
    "<center>'b'</center> | <div style=\"text-align: left\">이진 모드로 연다.</div>    \n",
    "<center>'t'</center> | <div style=\"text-align: left\">텍스트 모드로 연다. - Default</div>    "
   ]
  },
  {
   "cell_type": "markdown",
   "metadata": {},
   "source": [
    "#### write"
   ]
  },
  {
   "cell_type": "code",
   "execution_count": 43,
   "metadata": {},
   "outputs": [],
   "source": [
    "# write_hello.py\n",
    "\n",
    "fp = open('data/hello.txt', 'w')\n",
    "fp.write('Hello World!')\n",
    "fp.close()\n"
   ]
  },
  {
   "cell_type": "code",
   "execution_count": 44,
   "metadata": {},
   "outputs": [],
   "source": [
    " # write_text.py\n",
    "\n",
    "fp = open('data/text.txt', 'w')\n",
    "fp.write('{}\\n'.format(1))\n",
    "fp.write('{:.2f}\\n'.format(3.1415))\n",
    "fp.write('Hello World\\n')\n",
    "fp.write(\"서울과학종합대학원 빅데이터MBA\\n\")\n",
    "fp.close()\n",
    " "
   ]
  },
  {
   "cell_type": "markdown",
   "metadata": {},
   "source": [
    "#### read line: 한줄씩 읽기"
   ]
  },
  {
   "cell_type": "code",
   "execution_count": 45,
   "metadata": {},
   "outputs": [
    {
     "name": "stdout",
     "output_type": "stream",
     "text": [
      "1\n",
      "3.14\n",
      "Hello World\n",
      "서울과학종합대학원 빅데이터MBA\n"
     ]
    }
   ],
   "source": [
    "# read_readline.py\n",
    "\n",
    "fp = open('data/text.txt', 'r')\n",
    "line = fp.readline()\n",
    "print(line.strip())\n",
    "\n",
    "line = fp.readline()\n",
    "print(line.strip())\n",
    "\n",
    "line = fp.readline()\n",
    "print(line.strip())\n",
    "\n",
    "line = fp.readline()\n",
    "print(line.strip())\n",
    "\n",
    "fp.close()\n"
   ]
  },
  {
   "cell_type": "markdown",
   "metadata": {},
   "source": [
    "#### read lines: 여러줄을 한번에 읽어 리스트에 저장하기"
   ]
  },
  {
   "cell_type": "code",
   "execution_count": 46,
   "metadata": {},
   "outputs": [
    {
     "name": "stdout",
     "output_type": "stream",
     "text": [
      "['1\\n', '3.14\\n', 'Hello World\\n', '서울과학종합대학원 빅데이터MBA\\n']\n"
     ]
    }
   ],
   "source": [
    "# read_readlines.py\n",
    "\n",
    "fp = open('data/text.txt', 'r')\n",
    "lines = fp.readlines()\n",
    "print(lines)\n",
    "\n",
    "fp.close()\n"
   ]
  },
  {
   "cell_type": "markdown",
   "metadata": {},
   "source": [
    "#### read: 파일 내용 모두 읽기"
   ]
  },
  {
   "cell_type": "code",
   "execution_count": 47,
   "metadata": {},
   "outputs": [
    {
     "name": "stdout",
     "output_type": "stream",
     "text": [
      "1\n",
      "3.14\n",
      "Hello World\n",
      "서울과학종합대학원 빅데이터MBA\n",
      "\n"
     ]
    }
   ],
   "source": [
    "# read_read.py\n",
    "\n",
    "fp = open('data/text.txt', 'r')\n",
    "contents = fp.read()\n",
    "print(contents)\n",
    "\n",
    "fp.close()\n"
   ]
  },
  {
   "cell_type": "markdown",
   "metadata": {},
   "source": [
    "#### 중요 파일 메서드와 속성\n",
    "\n",
    "<center>메서드| <center>설 명\n",
    ":---|:---\n",
    "read([size])        | <div style=\"text-align: left\">파일에서 데이터를 읽어서 문자열로 반환한다. <br> size 인자를 사용해서 몇 바이트를 읽을 것인지 지정할 수 있다.\n",
    "readline([size])    | <div style=\"text-align: left\">파일에서 한 줄을 읽어 문자열로 반환한다. <br> size 인자를 사용해서 몇 바이트를 읽을 것인지 지정할 수 있다.\n",
    "readlines([size])   | <div style=\"text-align: left\">파일의 매 줄을 모두 읽어 리스트로 반환한다. <br> size 인자를 사용해서 몇 바이트를 읽을 것인지 지정할 수 있다.\n",
    "write(str)          | <div style=\"text-align: left\">전달받은 문자열을 파일에 기록한다.\n",
    "writelines(strings) | <div style=\"text-align: left\">전달받은 문자열 리스트를 파일에 기록한다.\n",
    "close()             | <div style=\"text-align: left\">파일 핸들을 닫는다.\n",
    "flush()             | <div style=\"text-align: left\">내부 I/O 버퍼를 디스크로 비운다.\n",
    "seek(pos)           | <div style=\"text-align: left\">파일 내에서 지정한 위치(정수)로 이동한다.\n",
    "tell()              | <div style=\"text-align: left\">현재 파일의 위치(정수)를 반환한다.\n"
   ]
  },
  {
   "cell_type": "markdown",
   "metadata": {},
   "source": [
    "### 10.2 직렬화 / 역직렬화 (serialize / deserialize)"
   ]
  },
  {
   "cell_type": "markdown",
   "metadata": {},
   "source": [
    "#### <참고> Protocol Buffers"
   ]
  },
  {
   "cell_type": "code",
   "execution_count": 48,
   "metadata": {},
   "outputs": [],
   "source": [
    "# pickle_dump.py\n",
    "\n",
    "import pickle\n",
    "\n",
    "fp = open('data/binary.dat', 'wb')\n",
    "\n",
    "pickle.dump(1, fp)\n",
    "pickle.dump(3.14, fp)\n",
    "pickle.dump('Hello World', fp)\n",
    "pickle.dump('서울과학종합대학원 빅데이터MBA', fp)\n",
    "pickle.dump([1,2,3], fp)\n",
    "pickle.dump((1,2,3), fp)\n",
    "pickle.dump({'line':0, 'rectangle':1, 'triangle':2}, fp)\n",
    "\n",
    "fp.close()\n"
   ]
  },
  {
   "cell_type": "code",
   "execution_count": 49,
   "metadata": {},
   "outputs": [
    {
     "name": "stdout",
     "output_type": "stream",
     "text": [
      "1\n",
      "3.14\n",
      "Hello World\n",
      "서울과학종합대학원 빅데이터MBA\n",
      "[1, 2, 3]\n",
      "(1, 2, 3)\n",
      "{'line': 0, 'rectangle': 1, 'triangle': 2}\n"
     ]
    }
   ],
   "source": [
    "# pickle_load.py\n",
    "\n",
    "import pickle\n",
    "\n",
    "fp = open('data/binary.dat', 'rb')\n",
    "\n",
    "data = pickle.load(fp)\n",
    "print(data)\n",
    "\n",
    "data = pickle.load(fp)\n",
    "print(data)\n",
    "\n",
    "data = pickle.load(fp)\n",
    "print(data)\n",
    "\n",
    "data = pickle.load(fp)\n",
    "print(data)\n",
    "\n",
    "data = pickle.load(fp)\n",
    "print(data)\n",
    "\n",
    "data = pickle.load(fp)\n",
    "print(data)\n",
    "\n",
    "data = pickle.load(fp)\n",
    "print(data)\n",
    "\n",
    "\n",
    "fp.close()\n"
   ]
  },
  {
   "cell_type": "markdown",
   "metadata": {},
   "source": [
    "### 10.3 with 문"
   ]
  },
  {
   "cell_type": "code",
   "execution_count": 50,
   "metadata": {},
   "outputs": [
    {
     "name": "stdout",
     "output_type": "stream",
     "text": [
      "1\n",
      "3.14\n",
      "Hello World\n",
      "서울과학종합대학원 빅데이터MBA\n",
      "Done!\n"
     ]
    }
   ],
   "source": [
    "# with_statement.py\n",
    "\n",
    "with open('data/text.txt', 'rt') as fp:\n",
    "    lines = fp.readlines()\n",
    "    \n",
    "    for line in lines:\n",
    "        print(line.strip())\n",
    "\n",
    "print('Done!')\n"
   ]
  },
  {
   "cell_type": "markdown",
   "metadata": {},
   "source": [
    "### 10.4 예제: 성적 처리 시스템(파일 입출력)"
   ]
  },
  {
   "cell_type": "code",
   "execution_count": 51,
   "metadata": {},
   "outputs": [],
   "source": [
    "# student.py\n",
    "\n",
    "class Student(object):\n",
    "\n",
    "    def __init__(self, num, name, kor, eng, math):\n",
    "    \n",
    "        # 학생의 속성\n",
    "        self._num  = num\n",
    "        self._name = name\n",
    "        self._kor  = kor\n",
    "        self._eng  = eng\n",
    "        self._math = math\n",
    "        \n",
    "        self._total = 0\n",
    "        self._avg   = 0.0\n",
    "        self._order = 0\n",
    "        \n",
    "        # 총점과 평균을 구한다.\n",
    "        self._calculate_total()\n",
    "        self._calculate_avg()\n",
    "    \n",
    "    def _calculate_total(self):\n",
    "        self._total = self._kor + self._eng + self._math\n",
    "        \n",
    "    def _calculate_avg(self):\n",
    "        self._avg = self._total / 3\n",
    "    \n",
    "    @property\n",
    "    def num(self):\n",
    "        return self._num\n",
    "        \n",
    "    @property\n",
    "    def name(self):\n",
    "        return self._name\n",
    "        \n",
    "    @property\n",
    "    def kor(self):\n",
    "        return self._kor\n",
    "        \n",
    "    @property\n",
    "    def eng(self):\n",
    "        return self._eng\n",
    "        \n",
    "    @property\n",
    "    def math(self):\n",
    "        return self._math\n",
    "        \n",
    "    @property\n",
    "    def total(self):\n",
    "        return self._total\n",
    "        \n",
    "    @property\n",
    "    def avg(self):\n",
    "        return self._avg\n",
    "        \n",
    "    @property\n",
    "    def order(self):\n",
    "        return self._order\n",
    "        \n",
    "    @order.setter\n",
    "    def order(self, value):\n",
    "        self._order = value\n"
   ]
  },
  {
   "cell_type": "code",
   "execution_count": 61,
   "metadata": {},
   "outputs": [],
   "source": [
    "# grade_system.py\n",
    "\n",
    "class StudentGradeSystem(object):\n",
    "\n",
    "    # StudentGradeSystem 객체의 생성자, 성적 파일을 입력 받는다.\n",
    "    def __init__(self, score_file):\n",
    "    \n",
    "        self._score_file = score_file\n",
    "    \n",
    "        # 학생 객체를 저장할 리스트\n",
    "        self._students = []\n",
    "        \n",
    "        # 반 성적을 저장할 속성\n",
    "        self._class_avg = 0.0\n",
    "        self._kor_avg   = 0.0\n",
    "        self._eng_avg   = 0.0\n",
    "        self._math_avg  = 0.0\n",
    "        \n",
    "        self._register_students()\n",
    "    \n",
    "    # 성적 파일로부터 학생 데이터를 입력 받는다\n",
    "    def _register_students(self):\n",
    "        with open(self._score_file, 'rt', encoding='cp949') as fp:\n",
    "            lines = fp.readlines()\n",
    "            \n",
    "            for line in lines:\n",
    "                items = (line.strip()).split(',')\n",
    "            \n",
    "                num  = items[0]\n",
    "                name = items[1]\n",
    "                kor  = int(items[2])\n",
    "                eng  = int(items[3])\n",
    "                math = int(items[4])\n",
    "                \n",
    "                student = Student(num, name, kor, eng, math)\n",
    "                self._students.append(student)\n",
    "                \n",
    "    # 학생 등수를 구한다.\n",
    "    def _calculate_student_order(self):\n",
    "        temp_students = sorted(self._students, key = lambda x: x.total, reverse = True)\n",
    "        \n",
    "        order = 1\n",
    "        for student in temp_students:\n",
    "            student.order = order\n",
    "            order = order + 1\n",
    "            \n",
    "        self._students = temp_students\n",
    "    \n",
    "    # 반 평균을 구한다.\n",
    "    def _calculate_class_avg(self):\n",
    "        total = 0\n",
    "        \n",
    "        for student in self._students:\n",
    "            total = total + student.total\n",
    "        \n",
    "        self._class_avg = total / len(self._students)\n",
    "\n",
    "    # 국어 평균을 구한다.\n",
    "    def _calculate_kor_avg(self):\n",
    "        total = 0\n",
    "        \n",
    "        for student in self._students:\n",
    "            total = total + student.kor\n",
    "        \n",
    "        self._kor_avg = total / len(self._students)\n",
    "\n",
    "    # 영어 평균을 구한다.\n",
    "    def _calculate_eng_avg(self):\n",
    "        total = 0\n",
    "        \n",
    "        for student in self._students:\n",
    "            total = total + student.eng\n",
    "        \n",
    "        self._eng_avg = total / len(self._students)\n",
    "\n",
    "    # 수학 평균을 구한다.\n",
    "    def _calculate_math_avg(self):\n",
    "        total = 0\n",
    "        \n",
    "        for student in self._students:\n",
    "            total = total + student.math\n",
    "        \n",
    "        self._math_avg = total / len(self._students)\n",
    "\n",
    "    # 반 성적 정보를 구한다.\n",
    "    def _calculate_class_information(self):\n",
    "        self._calculate_class_avg()\n",
    "        self._calculate_kor_avg()\n",
    "        self._calculate_eng_avg()\n",
    "        self._calculate_math_avg()\n",
    "\n",
    "    # 학생 객체를 등록한다.\n",
    "    def register_student(self, student):\n",
    "        self._students.append(student)\n",
    "\n",
    "    # 학생 성적 및 반 성적을 처리한다.\n",
    "    def process(self):\n",
    "        self._calculate_student_order()         # 학생 순위를 구한다.\n",
    "        self._calculate_class_information()     # 반 성적 정보를 구한다.\n",
    "\n",
    "    # 처리된 성적 내용을 output_file에 출력한다.\n",
    "    def output_result(self, output_file):\n",
    "    \n",
    "        student_output_format =  '번호: {:2}, 이름: {}, 국어: {}, 영어: {}, 수학: {}, 총점: {}, 평균: {:.2f}, 등수: {}\\n'\n",
    "        \n",
    "        with open(output_file, 'wt') as fp:\n",
    "            for student in self._students:\n",
    "                student_output = student_output_format.format(\n",
    "                                     student.num, student.name,\n",
    "                                     student.kor, student.eng, student.math,\n",
    "                                     student.total, student.avg, student.order)\n",
    "                fp.write(student_output)\n",
    "    \n",
    "            fp.write('\\n')\n",
    "            fp.write('반 평균  : {:.2f}\\n'.format(self._class_avg))\n",
    "            fp.write('국어 평균: {:.2f}\\n'.format(self._kor_avg)  ) \n",
    "            fp.write('영어 평균: {:.2f}\\n'.format(self._eng_avg)  )\n",
    "            fp.write('수학 평균: {:.2f}\\n'.format(self._math_avg) )\n",
    "            \n",
    "        print('성적 처리가 끝났습니다.')\n"
   ]
  },
  {
   "cell_type": "code",
   "execution_count": 62,
   "metadata": {},
   "outputs": [
    {
     "name": "stdout",
     "output_type": "stream",
     "text": [
      "성적 처리가 끝났습니다.\n"
     ]
    }
   ],
   "source": [
    "# main\n",
    "\n",
    "# 성적이 기록된 파일을 읽는다.\n",
    "student_grade_system = StudentGradeSystem('data/score.csv')\n",
    "\n",
    "# 성적을 처리한다. - 총점, 평균, 등수 등을 계산\n",
    "student_grade_system.process()\n",
    "\n",
    "# 처리된 성적을 파일에 기록한다.\n",
    "student_grade_system.output_result('data/result.csv')\n"
   ]
  },
  {
   "cell_type": "markdown",
   "metadata": {},
   "source": [
    "---"
   ]
  },
  {
   "cell_type": "markdown",
   "metadata": {},
   "source": [
    "# 11. 예외 처리"
   ]
  },
  {
   "cell_type": "markdown",
   "metadata": {},
   "source": [
    "### 11.1 예외 처리"
   ]
  },
  {
   "cell_type": "markdown",
   "metadata": {},
   "source": [
    "- 정상종료\n",
    "- 문법 오류\n",
    "- 논리 오류\n",
    "- 예외"
   ]
  },
  {
   "cell_type": "code",
   "execution_count": 54,
   "metadata": {},
   "outputs": [
    {
     "name": "stdout",
     "output_type": "stream",
     "text": [
      "1.5\n"
     ]
    },
    {
     "ename": "ZeroDivisionError",
     "evalue": "division by zero",
     "output_type": "error",
     "traceback": [
      "\u001b[1;31m---------------------------------------------------------------------------\u001b[0m",
      "\u001b[1;31mZeroDivisionError\u001b[0m                         Traceback (most recent call last)",
      "\u001b[1;32m<ipython-input-54-2e0f035e5a19>\u001b[0m in \u001b[0;36m<module>\u001b[1;34m()\u001b[0m\n\u001b[0;32m      7\u001b[0m \u001b[0mprint\u001b[0m\u001b[1;33m(\u001b[0m\u001b[0mresult\u001b[0m\u001b[1;33m)\u001b[0m\u001b[1;33m\u001b[0m\u001b[0m\n\u001b[0;32m      8\u001b[0m \u001b[1;33m\u001b[0m\u001b[0m\n\u001b[1;32m----> 9\u001b[1;33m \u001b[0mresult\u001b[0m \u001b[1;33m=\u001b[0m \u001b[0mdivide\u001b[0m\u001b[1;33m(\u001b[0m\u001b[1;36m3\u001b[0m\u001b[1;33m,\u001b[0m \u001b[1;36m0\u001b[0m\u001b[1;33m)\u001b[0m\u001b[1;33m\u001b[0m\u001b[0m\n\u001b[0m\u001b[0;32m     10\u001b[0m \u001b[0mprint\u001b[0m\u001b[1;33m(\u001b[0m\u001b[0mresult\u001b[0m\u001b[1;33m)\u001b[0m\u001b[1;33m\u001b[0m\u001b[0m\n",
      "\u001b[1;32m<ipython-input-54-2e0f035e5a19>\u001b[0m in \u001b[0;36mdivide\u001b[1;34m(m, n)\u001b[0m\n\u001b[0;32m      2\u001b[0m \u001b[1;33m\u001b[0m\u001b[0m\n\u001b[0;32m      3\u001b[0m \u001b[1;32mdef\u001b[0m \u001b[0mdivide\u001b[0m\u001b[1;33m(\u001b[0m\u001b[0mm\u001b[0m\u001b[1;33m,\u001b[0m \u001b[0mn\u001b[0m\u001b[1;33m)\u001b[0m\u001b[1;33m:\u001b[0m\u001b[1;33m\u001b[0m\u001b[0m\n\u001b[1;32m----> 4\u001b[1;33m     \u001b[1;32mreturn\u001b[0m \u001b[0mm\u001b[0m \u001b[1;33m/\u001b[0m \u001b[0mn\u001b[0m\u001b[1;33m\u001b[0m\u001b[0m\n\u001b[0m\u001b[0;32m      5\u001b[0m \u001b[1;33m\u001b[0m\u001b[0m\n\u001b[0;32m      6\u001b[0m \u001b[0mresult\u001b[0m \u001b[1;33m=\u001b[0m \u001b[0mdivide\u001b[0m\u001b[1;33m(\u001b[0m\u001b[1;36m3\u001b[0m\u001b[1;33m,\u001b[0m \u001b[1;36m2\u001b[0m\u001b[1;33m)\u001b[0m\u001b[1;33m\u001b[0m\u001b[0m\n",
      "\u001b[1;31mZeroDivisionError\u001b[0m: division by zero"
     ]
    }
   ],
   "source": [
    "# exception_divide1.py\n",
    "\n",
    "def divide(m, n):\n",
    "    return m / n\n",
    "\n",
    "result = divide(3, 2)\n",
    "print(result)\n",
    "\n",
    "result = divide(3, 0)\n",
    "print(result)\n"
   ]
  },
  {
   "cell_type": "code",
   "execution_count": 55,
   "metadata": {},
   "outputs": [
    {
     "name": "stdout",
     "output_type": "stream",
     "text": [
      "나눗셈 연산입니다.\n",
      "1.5\n",
      "\n",
      "0으로 나눌 수 없습니다.\n",
      "나눗셈 연산입니다.\n",
      "None\n",
      "\n",
      "ZeroDivisionError 이외의 예외가 발생했습니다.\n",
      "나눗셈 연산입니다.\n",
      "None\n"
     ]
    }
   ],
   "source": [
    "# exception_divide2.py\n",
    "\n",
    "def divide(m, n):\n",
    "    try:\n",
    "        result = m / n\n",
    "    \n",
    "    except ZeroDivisionError:\n",
    "        print('0으로 나눌 수 없습니다.')\n",
    "    \n",
    "    except:\n",
    "        print('ZeroDivisionError 이외의 예외가 발생했습니다.')\n",
    "    \n",
    "    else:\n",
    "        return result\n",
    "    \n",
    "    finally:\n",
    "        print('나눗셈 연산입니다.')\n",
    "\n",
    "res = divide(3, 2)\n",
    "print(res)\n",
    "print()\n",
    "\n",
    "res = divide(3, 0)\n",
    "print(res)\n",
    "print()\n",
    "\n",
    "res = divide(None, 0)\n",
    "print(res)\n"
   ]
  },
  {
   "cell_type": "markdown",
   "metadata": {},
   "source": [
    "### 11.2 예외 발생시키기"
   ]
  },
  {
   "cell_type": "code",
   "execution_count": 56,
   "metadata": {},
   "outputs": [
    {
     "ename": "TypeError",
     "evalue": "",
     "output_type": "error",
     "traceback": [
      "\u001b[1;31m---------------------------------------------------------------------------\u001b[0m",
      "\u001b[1;31mTypeError\u001b[0m                                 Traceback (most recent call last)",
      "\u001b[1;32m<ipython-input-56-edb832a6149f>\u001b[0m in \u001b[0;36m<module>\u001b[1;34m()\u001b[0m\n\u001b[1;32m----> 1\u001b[1;33m \u001b[1;32mraise\u001b[0m \u001b[0mTypeError\u001b[0m\u001b[1;33m\u001b[0m\u001b[0m\n\u001b[0m",
      "\u001b[1;31mTypeError\u001b[0m: "
     ]
    }
   ],
   "source": [
    "raise TypeError"
   ]
  },
  {
   "cell_type": "code",
   "execution_count": 57,
   "metadata": {},
   "outputs": [
    {
     "ename": "TypeError",
     "evalue": "타입 오류입니다.",
     "output_type": "error",
     "traceback": [
      "\u001b[1;31m---------------------------------------------------------------------------\u001b[0m",
      "\u001b[1;31mTypeError\u001b[0m                                 Traceback (most recent call last)",
      "\u001b[1;32m<ipython-input-57-23c1b2c4abea>\u001b[0m in \u001b[0;36m<module>\u001b[1;34m()\u001b[0m\n\u001b[1;32m----> 1\u001b[1;33m \u001b[1;32mraise\u001b[0m \u001b[0mTypeError\u001b[0m\u001b[1;33m(\u001b[0m\u001b[1;34m'타입 오류입니다.'\u001b[0m\u001b[1;33m)\u001b[0m\u001b[1;33m\u001b[0m\u001b[0m\n\u001b[0m",
      "\u001b[1;31mTypeError\u001b[0m: 타입 오류입니다."
     ]
    }
   ],
   "source": [
    "raise TypeError('타입 오류입니다.')"
   ]
  },
  {
   "cell_type": "code",
   "execution_count": 58,
   "metadata": {},
   "outputs": [
    {
     "name": "stdout",
     "output_type": "stream",
     "text": [
      "('타입 오류입니다.', '이것은 예제입니다.')\n"
     ]
    }
   ],
   "source": [
    "try:\n",
    "    raise TypeError('타입 오류입니다.', '이것은 예제입니다.')\n",
    "\n",
    "except TypeError as e:\n",
    "    print(e.args)\n",
    "    "
   ]
  },
  {
   "cell_type": "markdown",
   "metadata": {},
   "source": [
    "### 11.3 사용자 정의 예외"
   ]
  },
  {
   "cell_type": "code",
   "execution_count": 59,
   "metadata": {},
   "outputs": [
    {
     "name": "stdout",
     "output_type": "stream",
     "text": [
      "나이를 입력해 주세요: \n"
     ]
    },
    {
     "ename": "ValueError",
     "evalue": "invalid literal for int() with base 10: ''",
     "output_type": "error",
     "traceback": [
      "\u001b[1;31m---------------------------------------------------------------------------\u001b[0m",
      "\u001b[1;31mValueError\u001b[0m                                Traceback (most recent call last)",
      "\u001b[1;32m<ipython-input-59-af1941443cfb>\u001b[0m in \u001b[0;36m<module>\u001b[1;34m()\u001b[0m\n\u001b[0;32m     21\u001b[0m \u001b[1;33m\u001b[0m\u001b[0m\n\u001b[0;32m     22\u001b[0m \u001b[1;32mtry\u001b[0m\u001b[1;33m:\u001b[0m\u001b[1;33m\u001b[0m\u001b[0m\n\u001b[1;32m---> 23\u001b[1;33m     \u001b[0mage\u001b[0m \u001b[1;33m=\u001b[0m \u001b[0minput_age\u001b[0m\u001b[1;33m(\u001b[0m\u001b[1;33m)\u001b[0m\u001b[1;33m\u001b[0m\u001b[0m\n\u001b[0m\u001b[0;32m     24\u001b[0m \u001b[1;33m\u001b[0m\u001b[0m\n\u001b[0;32m     25\u001b[0m \u001b[1;32mexcept\u001b[0m \u001b[0mAgeException\u001b[0m \u001b[1;32mas\u001b[0m \u001b[0me\u001b[0m\u001b[1;33m:\u001b[0m\u001b[1;33m\u001b[0m\u001b[0m\n",
      "\u001b[1;32m<ipython-input-59-af1941443cfb>\u001b[0m in \u001b[0;36minput_age\u001b[1;34m()\u001b[0m\n\u001b[0;32m      9\u001b[0m \u001b[1;31m# 입력 함수\u001b[0m\u001b[1;33m\u001b[0m\u001b[1;33m\u001b[0m\u001b[0m\n\u001b[0;32m     10\u001b[0m \u001b[1;32mdef\u001b[0m \u001b[0minput_age\u001b[0m\u001b[1;33m(\u001b[0m\u001b[1;33m)\u001b[0m\u001b[1;33m:\u001b[0m\u001b[1;33m\u001b[0m\u001b[0m\n\u001b[1;32m---> 11\u001b[1;33m     \u001b[0mage\u001b[0m \u001b[1;33m=\u001b[0m \u001b[0mint\u001b[0m\u001b[1;33m(\u001b[0m\u001b[0minput\u001b[0m\u001b[1;33m(\u001b[0m\u001b[1;34m'나이를 입력해 주세요: '\u001b[0m\u001b[1;33m)\u001b[0m\u001b[1;33m)\u001b[0m\u001b[1;33m\u001b[0m\u001b[0m\n\u001b[0m\u001b[0;32m     12\u001b[0m \u001b[1;33m\u001b[0m\u001b[0m\n\u001b[0;32m     13\u001b[0m     \u001b[1;32mif\u001b[0m \u001b[0mage\u001b[0m \u001b[1;33m<\u001b[0m \u001b[1;36m0\u001b[0m\u001b[1;33m:\u001b[0m\u001b[1;33m\u001b[0m\u001b[0m\n",
      "\u001b[1;31mValueError\u001b[0m: invalid literal for int() with base 10: ''"
     ]
    }
   ],
   "source": [
    "# age_exception.py\n",
    "\n",
    "# 사용자 정의 예외를 정의 했습니다.\n",
    "class AgeException(Exception):\n",
    "\n",
    "    def __init__(self, msg):\n",
    "        self._message = msg\n",
    "    \n",
    "# 입력 함수\n",
    "def input_age():\n",
    "    age = int(input('나이를 입력해 주세요: '))\n",
    "        \n",
    "    if age < 0:\n",
    "        raise AgeException('나이는 음수가 될 수 없습니다.')\n",
    "    elif age > 150:\n",
    "        raise AgeException('150세 이상 살 수 있을까요?')\n",
    "    else:\n",
    "        return age\n",
    "    \n",
    "# main\n",
    "\n",
    "try:\n",
    "    age = input_age()\n",
    "    \n",
    "except AgeException as e:\n",
    "    print(e.args[0])\n",
    "    \n",
    "else:\n",
    "    print('나이는 {}세입니다.'.format(age))\n",
    "    \n",
    "    "
   ]
  },
  {
   "cell_type": "markdown",
   "metadata": {},
   "source": [
    "---"
   ]
  },
  {
   "cell_type": "code",
   "execution_count": 60,
   "metadata": {},
   "outputs": [],
   "source": [
    "# end of file"
   ]
  },
  {
   "cell_type": "code",
   "execution_count": null,
   "metadata": {},
   "outputs": [],
   "source": []
  },
  {
   "cell_type": "code",
   "execution_count": null,
   "metadata": {},
   "outputs": [],
   "source": []
  },
  {
   "cell_type": "code",
   "execution_count": null,
   "metadata": {},
   "outputs": [],
   "source": []
  }
 ],
 "metadata": {
  "kernelspec": {
   "display_name": "Python 3",
   "language": "python",
   "name": "python3"
  },
  "language_info": {
   "codemirror_mode": {
    "name": "ipython",
    "version": 3
   },
   "file_extension": ".py",
   "mimetype": "text/x-python",
   "name": "python",
   "nbconvert_exporter": "python",
   "pygments_lexer": "ipython3",
   "version": "3.7.1"
  }
 },
 "nbformat": 4,
 "nbformat_minor": 2
}
