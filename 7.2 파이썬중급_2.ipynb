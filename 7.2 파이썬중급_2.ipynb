{
 "cells": [
  {
   "cell_type": "markdown",
   "metadata": {},
   "source": [
    "# 9. 객체지향 프로그래밍(Class) II"
   ]
  },
  {
   "cell_type": "markdown",
   "metadata": {},
   "source": [
    "### 9.1 상속"
   ]
  },
  {
   "cell_type": "code",
   "execution_count": null,
   "metadata": {},
   "outputs": [],
   "source": [
    "# sportcar_example1.py\n",
    "\n",
    "class SportCar(object):\n",
    "    def __init__(self):\n",
    "        self._speed = 0\n",
    "\n",
    "    def get_speed(self):\n",
    "        return self._speed\n",
    "\n",
    "    def start(self):\n",
    "        self._speed = 20\n",
    "\n",
    "    def accelerate(self):\n",
    "        self._speed = self._speed + 40\n",
    "        \n",
    "    def turbocharge(self):\n",
    "        self._speed = self._speed + 70\n",
    "\n",
    "    def stop(self):\n",
    "        self._speed = 0\n",
    "\n",
    "# main\n",
    "\n",
    "my_sportcar = SportCar()\n",
    "my_sportcar.start()\n",
    "print('속도 1: ', my_sportcar.get_speed() )\n",
    "my_sportcar.accelerate()\n",
    "print('속도 2: ', my_sportcar.get_speed() )\n",
    "my_sportcar.turbocharge()\n",
    "print('속도 3: ', my_sportcar.get_speed() )\n",
    "my_sportcar.stop()\n"
   ]
  },
  {
   "cell_type": "markdown",
   "metadata": {},
   "source": [
    "#### <참고> 밑줄 2개로 시작하는 속성이나 메소드는 상속되지 않는다."
   ]
  },
  {
   "cell_type": "code",
   "execution_count": null,
   "metadata": {},
   "outputs": [],
   "source": [
    "# sportcar_example2.py\n",
    "\n",
    "class Car(object):\n",
    "    def __init__(self):\n",
    "        self._speed = 0\n",
    "\n",
    "    @property\n",
    "    def speed(self):\n",
    "        return self._speed\n",
    "\n",
    "    def start(self):\n",
    "        self._speed = 20\n",
    "\n",
    "    def accelerate(self):\n",
    "        self._speed = self._speed + 30\n",
    "        \n",
    "    def stop(self):\n",
    "        self._speed = 0\n",
    "        \n",
    "class SportCar(Car):\n",
    "    def __init__(self):\n",
    "        self._color = 'red'\n",
    "\n",
    "    def accelerate(self):                  # 오버라이딩(Overriding, 재정의)\n",
    "        self._speed = self._speed + 40\n",
    "        \n",
    "    def turbocharge(self):                 # 메소드 추가\n",
    "        self._speed = self._speed + 70\n",
    "\n",
    "    @property\n",
    "    def color(self):\n",
    "        return self._color\n",
    "\n",
    "# main\n",
    "\n",
    "my_sportcar = SportCar()\n",
    "print('색상: ', my_sportcar.color )\n",
    "my_sportcar.start()\n",
    "print('속도 1: ', my_sportcar.speed )\n",
    "my_sportcar.accelerate()\n",
    "print('속도 2: ', my_sportcar.speed )\n",
    "my_sportcar.turbocharge()\n",
    "print('속도 3: ', my_sportcar.speed )\n",
    "my_sportcar.stop()\n"
   ]
  },
  {
   "cell_type": "markdown",
   "metadata": {},
   "source": [
    "### 9.2 다형성(Polymorphism)"
   ]
  },
  {
   "cell_type": "code",
   "execution_count": null,
   "metadata": {},
   "outputs": [],
   "source": [
    "# airforce.py\n",
    "\n",
    "# 인터페이스(Interface)\n",
    "\n",
    "class AirForce(object):\n",
    "\n",
    "    def take_off(self):\n",
    "        pass\n",
    "    \n",
    "    def fly(self):\n",
    "        pass\n",
    "    \n",
    "    def attack(self):\n",
    "        pass\n",
    "    \n",
    "    def land(self):\n",
    "        pass\n",
    "    "
   ]
  },
  {
   "cell_type": "code",
   "execution_count": null,
   "metadata": {},
   "outputs": [],
   "source": [
    "# fighter.py\n",
    "\n",
    "# 전투기 클래스\n",
    "class Fighter(AirForce):\n",
    "\n",
    "    def __init__(self, weapon_num):\n",
    "        self._missile_num = weapon_num\n",
    "    \n",
    "    def take_off(self):\n",
    "        print('전투기 발진')\n",
    "    \n",
    "    def fly(self):\n",
    "        print('전투기 목표지로 출격')\n",
    "    \n",
    "    def attack(self):\n",
    "        for i in range(self._missile_num):\n",
    "            print('미사일 발사')\n",
    "            self._missile_num -= 1\n",
    "    \n",
    "    def land(self):\n",
    "        print('전투기 착륙')\n",
    "    "
   ]
  },
  {
   "cell_type": "code",
   "execution_count": null,
   "metadata": {},
   "outputs": [],
   "source": [
    "# bomber.py\n",
    "\n",
    "# 폭격기 클래스\n",
    "class Bomber(AirForce):\n",
    "\n",
    "    def __init__(self, bomb_num):\n",
    "        self._bomb_num = bomb_num\n",
    "    \n",
    "    def take_off(self):\n",
    "        print('폭격기 발진')\n",
    "    \n",
    "    def fly(self):\n",
    "        print('폭격기 목표지로 출격')\n",
    "    \n",
    "    def attack(self):\n",
    "        for i in range(self._bomb_num):\n",
    "            print('폭탄 투하')\n",
    "            self._bomb_num -= 1\n",
    "    \n",
    "    def land(self):\n",
    "        print('폭격기 착륙')\n",
    "    "
   ]
  },
  {
   "cell_type": "code",
   "execution_count": null,
   "metadata": {},
   "outputs": [],
   "source": [
    "# war_game.py\n",
    "\n",
    "def war_game(airforce):\n",
    "    airforce.take_off()\n",
    "    airforce.fly()\n",
    "    airforce.attack()\n",
    "    airforce.land()\n",
    "\n",
    "# main\n",
    "\n",
    "f15 = Fighter(3)\n",
    "war_game(f15)\n",
    "\n",
    "print()\n",
    "\n",
    "b29 = Bomber(3)\n",
    "war_game(b29)\n"
   ]
  },
  {
   "cell_type": "markdown",
   "metadata": {},
   "source": [
    "### 9.3 인스턴스 속성과 클래스 속성"
   ]
  },
  {
   "cell_type": "code",
   "execution_count": null,
   "metadata": {},
   "outputs": [],
   "source": [
    "# class_variable.py\n",
    "\n",
    "class Circle(object):\n",
    "\n",
    "    PI = 3.14    # 클래스 변수\n",
    "    \n",
    "    def __init__(self, radius):\n",
    "        self._radius = radius\n",
    "    \n",
    "    @property\n",
    "    def radius(self):\n",
    "        return self._radius\n",
    "\n",
    "    # 원의 면적을 구한다.\n",
    "    def get_area(self):\n",
    "        area = Circle.PI * (self._radius ** 2)    # 클래스명을 이용해서 클래스 변수에 접근\n",
    "        return round(area, 2)\n",
    "\n",
    "    # 원의 둘레를 구한다.\n",
    "    def get_circumference(self):\n",
    "        circumference = 2 * self.PI * self._radius\n",
    "        return round(circumference, 2)\n",
    "\n",
    "# main\n",
    "\n",
    "print('원주율(클래스 변수): ', Circle.PI)    # 클래스명을 이용해서 클래스 변수에 접근\n",
    "\n",
    "circle1 = Circle(3)\n",
    "print('반지름: {}, 면적: {}'.format(circle1.radius, circle1.get_area() ))\n",
    "print('반지름: {}, 둘레: {}'.format(circle1.radius, circle1.get_circumference() ))\n",
    "\n",
    "circle2 = Circle(4)\n",
    "print('반지름: {}, 면적: {}'.format(circle2.radius, circle2.get_area() ))\n",
    "print('반지름: {}, 둘레: {}'.format(circle2.radius, circle2.get_circumference() ))\n"
   ]
  },
  {
   "cell_type": "markdown",
   "metadata": {},
   "source": [
    "### 9.4 인스턴스 메서드, 클래스 메서드, 정적 메서드"
   ]
  },
  {
   "cell_type": "markdown",
   "metadata": {},
   "source": [
    "#### <참고> 유틸리티 클래스: 클래스 메서드, 정적 메서드들로만 이루어진 클래스"
   ]
  },
  {
   "cell_type": "code",
   "execution_count": null,
   "metadata": {},
   "outputs": [],
   "source": [
    "# classmethod_example.py\n",
    "\n",
    "class CircleCalculator(object):\n",
    "\n",
    "    __PI = 3.14    # 외부 접근 허용 불가\n",
    "    \n",
    "    # __init__(self) 메서드가 필요없음\n",
    "    \n",
    "    # 원의 면적을 구하는 클래스 메서드\n",
    "    @classmethod\n",
    "    def calculate_area(cls, radius):       # 인자로 cls를 필요로 한다.\n",
    "        area = cls.__PI * (radius ** 2)    # cls를 이용해서 클래스 변수에 접근\n",
    "        return round(area, 2)\n",
    "\n",
    "    # 원의 둘레를 구하는 클래스 메서드\n",
    "    @classmethod\n",
    "    def calculate_circumference(cls, radius):\n",
    "        circumference = 2 * cls.__PI * radius\n",
    "        return round(circumference, 2)\n",
    "\n",
    "# main\n",
    "\n",
    "print('반지름: 3, 면적: {}'.format(CircleCalculator.calculate_area(3)))\n",
    "print('반지름: 3, 둘레: {}'.format(CircleCalculator.calculate_circumference(3)))\n"
   ]
  },
  {
   "cell_type": "code",
   "execution_count": null,
   "metadata": {},
   "outputs": [],
   "source": [
    "# staticmethod_example.py\n",
    "\n",
    "class CircleCalculator(object):\n",
    "\n",
    "    # __init__(self) 메서드가 필요없음\n",
    "    \n",
    "    # 원의 면적을 구하는 정적 메서드\n",
    "    @staticmethod\n",
    "    def calculate_area(radius, pi):        # 호출시 필요한 인자만 사용 (self, cls 필요없음)\n",
    "        area = pi * (radius ** 2)\n",
    "        return round(area, 2)\n",
    "\n",
    "    # 원의 둘레를 구하는 정적 메서드\n",
    "    @staticmethod\n",
    "    def calculate_circumference(radius, pi):\n",
    "        circumference = 2 * pi * radius\n",
    "        return round(circumference, 2)\n",
    "\n",
    "# main\n",
    "\n",
    "print('반지름: 3, 면적: {}'.format(CircleCalculator.calculate_area(3, 3.14)))\n",
    "print('반지름: 3, 둘레: {}'.format(CircleCalculator.calculate_circumference(3, 3.14)))\n"
   ]
  },
  {
   "cell_type": "markdown",
   "metadata": {},
   "source": [
    "### 9.5 예제: 요일 구하기(객체지향 II) - classmethod"
   ]
  },
  {
   "cell_type": "code",
   "execution_count": null,
   "metadata": {},
   "outputs": [],
   "source": [
    "# calculate_day_name_classmethod.py\n",
    "\n",
    "class DayNameCalculator(object):\n",
    "\n",
    "    # 클래스 속성 정의\n",
    "    _year_month_days = [0,31,28,31,30,31,30,31,31,30,31,30,31]\n",
    "    _day_names = ['일요일','월요일','화요일','수요일','목요일','금요일','토요일']\n",
    "        \n",
    "    # 년월일을 입력받는 클래스 메서드\n",
    "    @classmethod\n",
    "    def input_date(cls):\n",
    "        year  = int(input('년도를 입력하시오: '))\n",
    "        month = int(input('월을 입력하시오: '))\n",
    "        day   = int(input('일을 입력하시오: '))\n",
    "    \n",
    "        return year, month, day\n",
    "\n",
    "    # 윤년인지를 체크하는 클래스 메서드\n",
    "    @classmethod\n",
    "    def _is_leap(cls, year):\n",
    "        if year % 400 == 0:                 # 400으로 나뉘는 해: 윤년\n",
    "            return True\n",
    "        elif year % 100 == 0:               # 100으로 나뉘는 해: 평년\n",
    "            return False\n",
    "        elif year % 4 == 0:                 # 4으로 나뉘는 해  : 윤년\n",
    "            return True\n",
    "        else:\n",
    "            return False\n",
    "    \n",
    "    # 요일을 계산하는 클래스 메서드\n",
    "    @classmethod\n",
    "    def calculate(cls, year, month, day):\n",
    "    \n",
    "        total_days = 0\n",
    "        \n",
    "        for item in range(1, year):\n",
    "            if cls._is_leap(item):\n",
    "                total_days += 366\n",
    "            else:\n",
    "                total_days += 365\n",
    "\n",
    "        for item in range(1, month):\n",
    "            total_days += cls._year_month_days[item]\n",
    "\n",
    "        if month >= 3:\n",
    "            if cls._is_leap(year):\n",
    "                total_days += 1\n",
    "\n",
    "        total_days += day\n",
    "        \n",
    "        remainder = total_days % 7\n",
    "        \n",
    "        return cls._day_names[remainder]\n",
    "    "
   ]
  },
  {
   "cell_type": "code",
   "execution_count": null,
   "metadata": {},
   "outputs": [],
   "source": [
    "# main\n",
    "\n",
    "year, month, day = DayNameCalculator.input_date()\n",
    "\n",
    "day_name = DayNameCalculator.calculate(year, month, day)    # 객체 생성 없이 클래스 메서드 호출\n",
    "\n",
    "print(day_name)\n"
   ]
  },
  {
   "cell_type": "markdown",
   "metadata": {},
   "source": [
    "### 9.6 예제: 요일 구하기(객체지향 II) - staticmethod"
   ]
  },
  {
   "cell_type": "code",
   "execution_count": null,
   "metadata": {},
   "outputs": [],
   "source": [
    "# calculate_day_name_staticmethod.py\n",
    "\n",
    "class DayNameCalculator(object):\n",
    "\n",
    "    # 클래스 속성 정의\n",
    "    _year_month_days = [0,31,28,31,30,31,30,31,31,30,31,30,31]\n",
    "    _day_names = ['일요일','월요일','화요일','수요일','목요일','금요일','토요일']\n",
    "        \n",
    "    # 년월일을 입력받는 정적 메서드\n",
    "    @staticmethod\n",
    "    def input_date():\n",
    "        year  = int(input('년도를 입력하시오: '))\n",
    "        month = int(input('월을 입력하시오: '))\n",
    "        day   = int(input('일을 입력하시오: '))\n",
    "    \n",
    "        return year, month, day\n",
    "\n",
    "    # 윤년인지를 체크하는 정적 메서드\n",
    "    @staticmethod\n",
    "    def _is_leap(year):\n",
    "        if year % 400 == 0:                 # 400으로 나뉘는 해: 윤년\n",
    "            return True\n",
    "        elif year % 100 == 0:               # 100으로 나뉘는 해: 평년\n",
    "            return False\n",
    "        elif year % 4 == 0:                 # 4으로 나뉘는 해  : 윤년\n",
    "            return True\n",
    "        else:\n",
    "            return False\n",
    "    \n",
    "    # 요일을 계산하는 정적 메서드\n",
    "    @staticmethod\n",
    "    def calculate(year, month, day):\n",
    "    \n",
    "        total_days = 0\n",
    "        \n",
    "        for item in range(1, year):\n",
    "            if DayNameCalculator._is_leap(item): # 클래스 속성(메소드)사용시: 클래스명으로 접근\n",
    "                total_days += 366\n",
    "            else:\n",
    "                total_days += 365\n",
    "\n",
    "        for item in range(1, month):\n",
    "            total_days += DayNameCalculator._year_month_days[item]\n",
    "\n",
    "        if month >= 3:\n",
    "            if DayNameCalculator._is_leap(year):\n",
    "                total_days += 1\n",
    "\n",
    "        total_days += day\n",
    "        \n",
    "        remainder = total_days % 7\n",
    "        \n",
    "        return DayNameCalculator._day_names[remainder]\n",
    "    "
   ]
  },
  {
   "cell_type": "code",
   "execution_count": null,
   "metadata": {},
   "outputs": [],
   "source": [
    "# main\n",
    "\n",
    "year, month, day = DayNameCalculator.input_date()\n",
    "\n",
    "day_name = DayNameCalculator.calculate(year, month, day)    # 객체 생성 없이 정적 메서드 호출\n",
    "\n",
    "print(day_name)\n"
   ]
  },
  {
   "cell_type": "markdown",
   "metadata": {},
   "source": [
    "#### <참고> 라이브러리 사용"
   ]
  },
  {
   "cell_type": "code",
   "execution_count": null,
   "metadata": {},
   "outputs": [],
   "source": [
    "import datetime\n",
    "\n",
    "date = datetime.date(2014,9,1)\n",
    "date.strftime('%A')\n"
   ]
  },
  {
   "cell_type": "markdown",
   "metadata": {},
   "source": [
    "### 9.7 특별 메서드(매직 메서드)"
   ]
  },
  {
   "cell_type": "code",
   "execution_count": null,
   "metadata": {},
   "outputs": [],
   "source": [
    "# car_special_method.py\n",
    "\n",
    "class Car(object):\n",
    "\n",
    "    def __init__(self, name):\n",
    "        self._name = name\n",
    "\n",
    "    def __str__(self):\n",
    "        return 'Type:  Car, Name: ' + self._name\n",
    "        \n",
    "my_car = Car('Sonata')\n",
    "my_car_string = str(my_car)\n",
    "\n",
    "print(my_car_string)\n",
    "\n",
    "print(my_car)\n"
   ]
  },
  {
   "cell_type": "code",
   "execution_count": null,
   "metadata": {},
   "outputs": [],
   "source": [
    "# car_special_method2.py\n",
    "\n",
    "# 숫자 '+' 연산\n",
    "\n",
    "class Car(object):\n",
    "\n",
    "    def __init__(self, price):\n",
    "        self._price = price\n",
    "\n",
    "    def __add__(self, val):\n",
    "        return self._price + val\n",
    "        \n",
    "    def __sub__(self, val):\n",
    "        return self._price - val\n",
    "        \n",
    "        \n",
    "my_car = Car(1000)\n",
    "\n",
    "print('더하기 연산: ', my_car + 200 )\n",
    "print('빼기   연산: ', my_car - 200 )\n"
   ]
  },
  {
   "cell_type": "code",
   "execution_count": null,
   "metadata": {},
   "outputs": [],
   "source": [
    "# car_special_method3.py\n",
    "\n",
    "# 문자열 '+' 연산\n",
    "\n",
    "class Car(object):\n",
    "\n",
    "    def __init__(self, name):\n",
    "        self._name = name\n",
    "\n",
    "    def __add__(self, sval):\n",
    "        return self._name + sval\n",
    "        \n",
    "my_car = Car('Sonata')\n",
    "\n",
    "print('더하기 연산: ', my_car + ' Add string' )\n"
   ]
  },
  {
   "cell_type": "code",
   "execution_count": null,
   "metadata": {},
   "outputs": [],
   "source": [
    "dir(my_car)"
   ]
  },
  {
   "cell_type": "markdown",
   "metadata": {},
   "source": [
    "#### 연산 관련 메서드\n",
    "<center>코드|<center>파이썬 호출|<center>설 명\n",
    ":---|:---|:---\n",
    "x + y  | x.\\_\\_add__(y)      |덧셈을 수행한다.\n",
    "x - y  | x.\\_\\_sub__(y)      |뺄셈을 수행한다.\n",
    "x * y  | x.\\_\\_mul__(y)      |곱셈을 수행한다.\n",
    "x / y  | x.\\_\\_truediv__(y)  |나눗셈을 수행한다.\n",
    "x // y | x.\\_\\_floordiv__(y) |나눗셈후 버림을 수행한다.\n",
    "x % y  | x.\\_\\_mod__(y)      |나머지 연산을 수행한다.\n",
    "x ** y | x.\\_\\_pow__(y)      |거듭제곱을 수행한다."
   ]
  },
  {
   "cell_type": "markdown",
   "metadata": {},
   "source": [
    "#### 비교 관련 메서드\n",
    "<center>코드|<center>파이썬 호출|<center>설명\n",
    ":---|:---|:---\n",
    "x == y | x.\\_\\_eq__(y)   |동등성을 평가한다.\n",
    "x != y | x.\\_\\_ne__(y)   |동등하지 않음을 평가한다.\n",
    "x < y  | x.\\_\\_lt__(y)   |보다 작음을 평가한다.\n",
    "x <= y | x.\\_\\_le__(y)   |같거나 작음을 평가한다.\n",
    "x > y  | x.\\_\\_gt__(y)   |보다 큼을 평가한다.\n",
    "x >= y | x.\\_\\_ge__(y)   |같거나 큼을 평가한다.\n",
    "if x:  | x.\\_\\_bool__(y) |x의 불린 값을 구한다."
   ]
  },
  {
   "cell_type": "markdown",
   "metadata": {},
   "source": [
    "---"
   ]
  },
  {
   "cell_type": "code",
   "execution_count": null,
   "metadata": {},
   "outputs": [],
   "source": [
    "# end of file"
   ]
  },
  {
   "cell_type": "code",
   "execution_count": null,
   "metadata": {},
   "outputs": [],
   "source": []
  }
 ],
 "metadata": {
  "kernelspec": {
   "display_name": "Python 3",
   "language": "python",
   "name": "python3"
  },
  "language_info": {
   "codemirror_mode": {
    "name": "ipython",
    "version": 3
   },
   "file_extension": ".py",
   "mimetype": "text/x-python",
   "name": "python",
   "nbconvert_exporter": "python",
   "pygments_lexer": "ipython3",
   "version": "3.7.0"
  }
 },
 "nbformat": 4,
 "nbformat_minor": 2
}
