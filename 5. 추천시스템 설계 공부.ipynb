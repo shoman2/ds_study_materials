{
 "cells": [
  {
   "cell_type": "code",
   "execution_count": 1,
   "metadata": {},
   "outputs": [
    {
     "data": {
      "text/plain": [
       "'C:\\\\Users\\\\tkim29\\\\assist_python\\\\recomm._sys'"
      ]
     },
     "execution_count": 1,
     "metadata": {},
     "output_type": "execute_result"
    }
   ],
   "source": [
    "import pandas as pd\n",
    "import numpy as np\n",
    "import os\n",
    "os.getcwd()"
   ]
  },
  {
   "cell_type": "code",
   "execution_count": 2,
   "metadata": {},
   "outputs": [
    {
     "data": {
      "text/plain": [
       "'\\norder_data\\t주문일자\\nFC_code\\t프랜차이져 코드\\nFC_name\\t프랜차이져 이름\\nST_code\\t점포코드\\nct_L_code\\t상품 대분류 그룹 코드\\nct_L_name\\t상품 대분류 그룹 이름\\nct_M_code\\t상품 중분류 그룹 코드\\nct_M_name\\t상품 중분류 그룹 이름\\nct_S_code\\t상품 소분류 그룹 코드\\nct_S_name\\t상품 소분류 그룹 이름\\nsku_code\\t상품명\\nqty\\t주문 수량\\nstd\\t주문 단위\\n'"
      ]
     },
     "execution_count": 2,
     "metadata": {},
     "output_type": "execute_result"
    }
   ],
   "source": [
    "'''\n",
    "order_data\t주문일자\n",
    "FC_code\t프랜차이져 코드\n",
    "FC_name\t프랜차이져 이름\n",
    "ST_code\t점포코드\n",
    "ct_L_code\t상품 대분류 그룹 코드\n",
    "ct_L_name\t상품 대분류 그룹 이름\n",
    "ct_M_code\t상품 중분류 그룹 코드\n",
    "ct_M_name\t상품 중분류 그룹 이름\n",
    "ct_S_code\t상품 소분류 그룹 코드\n",
    "ct_S_name\t상품 소분류 그룹 이름\n",
    "sku_code\t상품명\n",
    "qty\t주문 수량\n",
    "std\t주문 단위\n",
    "'''"
   ]
  },
  {
   "cell_type": "code",
   "execution_count": 3,
   "metadata": {},
   "outputs": [],
   "source": [
    "data = pd.read_excel(\"C:\\\\Users\\\\tkim29\\\\assist_python\\\\recomm._sys\\\\python_hw_data.xlsx\", \n",
    "                     parse_dates= [\"order_data\"], encoding = 'utf-8')"
   ]
  },
  {
   "cell_type": "code",
   "execution_count": 4,
   "metadata": {},
   "outputs": [
    {
     "data": {
      "text/html": [
       "<div>\n",
       "<style scoped>\n",
       "    .dataframe tbody tr th:only-of-type {\n",
       "        vertical-align: middle;\n",
       "    }\n",
       "\n",
       "    .dataframe tbody tr th {\n",
       "        vertical-align: top;\n",
       "    }\n",
       "\n",
       "    .dataframe thead th {\n",
       "        text-align: right;\n",
       "    }\n",
       "</style>\n",
       "<table border=\"1\" class=\"dataframe\">\n",
       "  <thead>\n",
       "    <tr style=\"text-align: right;\">\n",
       "      <th></th>\n",
       "      <th>order_data</th>\n",
       "      <th>FC_code</th>\n",
       "      <th>FC_name</th>\n",
       "      <th>ST_code</th>\n",
       "      <th>ct_L_code</th>\n",
       "      <th>ct_L_name</th>\n",
       "      <th>ct_M_code</th>\n",
       "      <th>ct_M_name</th>\n",
       "      <th>ct_S_code</th>\n",
       "      <th>ct_S_name</th>\n",
       "      <th>sku_code</th>\n",
       "      <th>qty</th>\n",
       "      <th>std</th>\n",
       "    </tr>\n",
       "  </thead>\n",
       "  <tbody>\n",
       "    <tr>\n",
       "      <th>0</th>\n",
       "      <td>2018-12-07</td>\n",
       "      <td>10241</td>\n",
       "      <td>café_37</td>\n",
       "      <td>16444</td>\n",
       "      <td>10</td>\n",
       "      <td>가공식품</td>\n",
       "      <td>15</td>\n",
       "      <td>조미식품</td>\n",
       "      <td>11</td>\n",
       "      <td>조미료</td>\n",
       "      <td>120165</td>\n",
       "      <td>5.0</td>\n",
       "      <td>BOX</td>\n",
       "    </tr>\n",
       "    <tr>\n",
       "      <th>1</th>\n",
       "      <td>2018-12-07</td>\n",
       "      <td>10241</td>\n",
       "      <td>café_37</td>\n",
       "      <td>16444</td>\n",
       "      <td>10</td>\n",
       "      <td>가공식품</td>\n",
       "      <td>10</td>\n",
       "      <td>유가공품</td>\n",
       "      <td>13</td>\n",
       "      <td>치즈류</td>\n",
       "      <td>100323</td>\n",
       "      <td>1.0</td>\n",
       "      <td>EA</td>\n",
       "    </tr>\n",
       "    <tr>\n",
       "      <th>2</th>\n",
       "      <td>2018-12-07</td>\n",
       "      <td>10241</td>\n",
       "      <td>café_37</td>\n",
       "      <td>16444</td>\n",
       "      <td>10</td>\n",
       "      <td>가공식품</td>\n",
       "      <td>19</td>\n",
       "      <td>캔/김치/편의식/기타</td>\n",
       "      <td>10</td>\n",
       "      <td>캔제품</td>\n",
       "      <td>100479</td>\n",
       "      <td>24.0</td>\n",
       "      <td>EA</td>\n",
       "    </tr>\n",
       "    <tr>\n",
       "      <th>3</th>\n",
       "      <td>2018-12-07</td>\n",
       "      <td>10241</td>\n",
       "      <td>café_37</td>\n",
       "      <td>16444</td>\n",
       "      <td>10</td>\n",
       "      <td>가공식품</td>\n",
       "      <td>13</td>\n",
       "      <td>분말가공</td>\n",
       "      <td>12</td>\n",
       "      <td>곡물가공기타</td>\n",
       "      <td>104176</td>\n",
       "      <td>12.0</td>\n",
       "      <td>EA</td>\n",
       "    </tr>\n",
       "    <tr>\n",
       "      <th>4</th>\n",
       "      <td>2018-12-07</td>\n",
       "      <td>10241</td>\n",
       "      <td>café_37</td>\n",
       "      <td>16444</td>\n",
       "      <td>10</td>\n",
       "      <td>가공식품</td>\n",
       "      <td>19</td>\n",
       "      <td>캔/김치/편의식/기타</td>\n",
       "      <td>13</td>\n",
       "      <td>가공식품기타</td>\n",
       "      <td>119183</td>\n",
       "      <td>4.0</td>\n",
       "      <td>EA</td>\n",
       "    </tr>\n",
       "  </tbody>\n",
       "</table>\n",
       "</div>"
      ],
      "text/plain": [
       "  order_data  FC_code  FC_name  ST_code  ct_L_code ct_L_name  ct_M_code  \\\n",
       "0 2018-12-07    10241  café_37    16444         10      가공식품         15   \n",
       "1 2018-12-07    10241  café_37    16444         10      가공식품         10   \n",
       "2 2018-12-07    10241  café_37    16444         10      가공식품         19   \n",
       "3 2018-12-07    10241  café_37    16444         10      가공식품         13   \n",
       "4 2018-12-07    10241  café_37    16444         10      가공식품         19   \n",
       "\n",
       "     ct_M_name  ct_S_code ct_S_name  sku_code   qty  std  \n",
       "0         조미식품         11       조미료    120165   5.0  BOX  \n",
       "1         유가공품         13       치즈류    100323   1.0   EA  \n",
       "2  캔/김치/편의식/기타         10       캔제품    100479  24.0   EA  \n",
       "3         분말가공         12    곡물가공기타    104176  12.0   EA  \n",
       "4  캔/김치/편의식/기타         13    가공식품기타    119183   4.0   EA  "
      ]
     },
     "execution_count": 4,
     "metadata": {},
     "output_type": "execute_result"
    }
   ],
   "source": [
    "data.head()"
   ]
  },
  {
   "cell_type": "code",
   "execution_count": 5,
   "metadata": {},
   "outputs": [
    {
     "data": {
      "text/plain": [
       "order_data    datetime64[ns]\n",
       "FC_code                int64\n",
       "FC_name               object\n",
       "ST_code                int64\n",
       "ct_L_code              int64\n",
       "ct_L_name             object\n",
       "ct_M_code              int64\n",
       "ct_M_name             object\n",
       "ct_S_code              int64\n",
       "ct_S_name             object\n",
       "sku_code               int64\n",
       "qty                  float64\n",
       "std                   object\n",
       "dtype: object"
      ]
     },
     "execution_count": 5,
     "metadata": {},
     "output_type": "execute_result"
    }
   ],
   "source": [
    "data.dtypes"
   ]
  },
  {
   "cell_type": "code",
   "execution_count": null,
   "metadata": {},
   "outputs": [],
   "source": []
  },
  {
   "cell_type": "markdown",
   "metadata": {},
   "source": [
    "## Preprocessing"
   ]
  },
  {
   "cell_type": "code",
   "execution_count": 6,
   "metadata": {},
   "outputs": [],
   "source": [
    "data[\"datetime-year\"] = data[\"order_data\"].dt.year\n",
    "data[\"datetime-month\"] = data[\"order_data\"].dt.month\n",
    "data[\"datetime-day\"] = data[\"order_data\"].dt.day\n",
    "data[\"datetime-dayofweek\"] = data[\"order_data\"].dt.dayofweek"
   ]
  },
  {
   "cell_type": "code",
   "execution_count": 7,
   "metadata": {},
   "outputs": [
    {
     "data": {
      "text/html": [
       "<div>\n",
       "<style scoped>\n",
       "    .dataframe tbody tr th:only-of-type {\n",
       "        vertical-align: middle;\n",
       "    }\n",
       "\n",
       "    .dataframe tbody tr th {\n",
       "        vertical-align: top;\n",
       "    }\n",
       "\n",
       "    .dataframe thead th {\n",
       "        text-align: right;\n",
       "    }\n",
       "</style>\n",
       "<table border=\"1\" class=\"dataframe\">\n",
       "  <thead>\n",
       "    <tr style=\"text-align: right;\">\n",
       "      <th></th>\n",
       "      <th>order_data</th>\n",
       "      <th>FC_code</th>\n",
       "      <th>FC_name</th>\n",
       "      <th>ST_code</th>\n",
       "      <th>ct_L_code</th>\n",
       "      <th>ct_L_name</th>\n",
       "      <th>ct_M_code</th>\n",
       "      <th>ct_M_name</th>\n",
       "      <th>ct_S_code</th>\n",
       "      <th>ct_S_name</th>\n",
       "      <th>sku_code</th>\n",
       "      <th>qty</th>\n",
       "      <th>std</th>\n",
       "      <th>datetime-year</th>\n",
       "      <th>datetime-month</th>\n",
       "      <th>datetime-day</th>\n",
       "      <th>datetime-dayofweek</th>\n",
       "    </tr>\n",
       "  </thead>\n",
       "  <tbody>\n",
       "    <tr>\n",
       "      <th>0</th>\n",
       "      <td>2018-12-07</td>\n",
       "      <td>10241</td>\n",
       "      <td>café_37</td>\n",
       "      <td>16444</td>\n",
       "      <td>10</td>\n",
       "      <td>가공식품</td>\n",
       "      <td>15</td>\n",
       "      <td>조미식품</td>\n",
       "      <td>11</td>\n",
       "      <td>조미료</td>\n",
       "      <td>120165</td>\n",
       "      <td>5.0</td>\n",
       "      <td>BOX</td>\n",
       "      <td>2018</td>\n",
       "      <td>12</td>\n",
       "      <td>7</td>\n",
       "      <td>4</td>\n",
       "    </tr>\n",
       "    <tr>\n",
       "      <th>1</th>\n",
       "      <td>2018-12-07</td>\n",
       "      <td>10241</td>\n",
       "      <td>café_37</td>\n",
       "      <td>16444</td>\n",
       "      <td>10</td>\n",
       "      <td>가공식품</td>\n",
       "      <td>10</td>\n",
       "      <td>유가공품</td>\n",
       "      <td>13</td>\n",
       "      <td>치즈류</td>\n",
       "      <td>100323</td>\n",
       "      <td>1.0</td>\n",
       "      <td>EA</td>\n",
       "      <td>2018</td>\n",
       "      <td>12</td>\n",
       "      <td>7</td>\n",
       "      <td>4</td>\n",
       "    </tr>\n",
       "    <tr>\n",
       "      <th>2</th>\n",
       "      <td>2018-12-07</td>\n",
       "      <td>10241</td>\n",
       "      <td>café_37</td>\n",
       "      <td>16444</td>\n",
       "      <td>10</td>\n",
       "      <td>가공식품</td>\n",
       "      <td>19</td>\n",
       "      <td>캔/김치/편의식/기타</td>\n",
       "      <td>10</td>\n",
       "      <td>캔제품</td>\n",
       "      <td>100479</td>\n",
       "      <td>24.0</td>\n",
       "      <td>EA</td>\n",
       "      <td>2018</td>\n",
       "      <td>12</td>\n",
       "      <td>7</td>\n",
       "      <td>4</td>\n",
       "    </tr>\n",
       "    <tr>\n",
       "      <th>3</th>\n",
       "      <td>2018-12-07</td>\n",
       "      <td>10241</td>\n",
       "      <td>café_37</td>\n",
       "      <td>16444</td>\n",
       "      <td>10</td>\n",
       "      <td>가공식품</td>\n",
       "      <td>13</td>\n",
       "      <td>분말가공</td>\n",
       "      <td>12</td>\n",
       "      <td>곡물가공기타</td>\n",
       "      <td>104176</td>\n",
       "      <td>12.0</td>\n",
       "      <td>EA</td>\n",
       "      <td>2018</td>\n",
       "      <td>12</td>\n",
       "      <td>7</td>\n",
       "      <td>4</td>\n",
       "    </tr>\n",
       "    <tr>\n",
       "      <th>4</th>\n",
       "      <td>2018-12-07</td>\n",
       "      <td>10241</td>\n",
       "      <td>café_37</td>\n",
       "      <td>16444</td>\n",
       "      <td>10</td>\n",
       "      <td>가공식품</td>\n",
       "      <td>19</td>\n",
       "      <td>캔/김치/편의식/기타</td>\n",
       "      <td>13</td>\n",
       "      <td>가공식품기타</td>\n",
       "      <td>119183</td>\n",
       "      <td>4.0</td>\n",
       "      <td>EA</td>\n",
       "      <td>2018</td>\n",
       "      <td>12</td>\n",
       "      <td>7</td>\n",
       "      <td>4</td>\n",
       "    </tr>\n",
       "  </tbody>\n",
       "</table>\n",
       "</div>"
      ],
      "text/plain": [
       "  order_data  FC_code  FC_name  ST_code  ct_L_code ct_L_name  ct_M_code  \\\n",
       "0 2018-12-07    10241  café_37    16444         10      가공식품         15   \n",
       "1 2018-12-07    10241  café_37    16444         10      가공식품         10   \n",
       "2 2018-12-07    10241  café_37    16444         10      가공식품         19   \n",
       "3 2018-12-07    10241  café_37    16444         10      가공식품         13   \n",
       "4 2018-12-07    10241  café_37    16444         10      가공식품         19   \n",
       "\n",
       "     ct_M_name  ct_S_code ct_S_name  sku_code   qty  std  datetime-year  \\\n",
       "0         조미식품         11       조미료    120165   5.0  BOX           2018   \n",
       "1         유가공품         13       치즈류    100323   1.0   EA           2018   \n",
       "2  캔/김치/편의식/기타         10       캔제품    100479  24.0   EA           2018   \n",
       "3         분말가공         12    곡물가공기타    104176  12.0   EA           2018   \n",
       "4  캔/김치/편의식/기타         13    가공식품기타    119183   4.0   EA           2018   \n",
       "\n",
       "   datetime-month  datetime-day  datetime-dayofweek  \n",
       "0              12             7                   4  \n",
       "1              12             7                   4  \n",
       "2              12             7                   4  \n",
       "3              12             7                   4  \n",
       "4              12             7                   4  "
      ]
     },
     "execution_count": 7,
     "metadata": {},
     "output_type": "execute_result"
    }
   ],
   "source": [
    "data.head()"
   ]
  },
  {
   "cell_type": "code",
   "execution_count": 8,
   "metadata": {},
   "outputs": [
    {
     "name": "stdout",
     "output_type": "stream",
     "text": [
      "(262994, 17)\n"
     ]
    }
   ],
   "source": [
    "print(data.shape)"
   ]
  },
  {
   "cell_type": "code",
   "execution_count": 9,
   "metadata": {},
   "outputs": [
    {
     "data": {
      "text/html": [
       "<div>\n",
       "<style scoped>\n",
       "    .dataframe tbody tr th:only-of-type {\n",
       "        vertical-align: middle;\n",
       "    }\n",
       "\n",
       "    .dataframe tbody tr th {\n",
       "        vertical-align: top;\n",
       "    }\n",
       "\n",
       "    .dataframe thead th {\n",
       "        text-align: right;\n",
       "    }\n",
       "</style>\n",
       "<table border=\"1\" class=\"dataframe\">\n",
       "  <thead>\n",
       "    <tr style=\"text-align: right;\">\n",
       "      <th></th>\n",
       "      <th>order_data</th>\n",
       "      <th>datetime-year</th>\n",
       "      <th>datetime-month</th>\n",
       "      <th>datetime-day</th>\n",
       "      <th>datetime-dayofweek</th>\n",
       "    </tr>\n",
       "  </thead>\n",
       "  <tbody>\n",
       "    <tr>\n",
       "      <th>0</th>\n",
       "      <td>2018-12-07</td>\n",
       "      <td>2018</td>\n",
       "      <td>12</td>\n",
       "      <td>7</td>\n",
       "      <td>4</td>\n",
       "    </tr>\n",
       "    <tr>\n",
       "      <th>1</th>\n",
       "      <td>2018-12-07</td>\n",
       "      <td>2018</td>\n",
       "      <td>12</td>\n",
       "      <td>7</td>\n",
       "      <td>4</td>\n",
       "    </tr>\n",
       "    <tr>\n",
       "      <th>2</th>\n",
       "      <td>2018-12-07</td>\n",
       "      <td>2018</td>\n",
       "      <td>12</td>\n",
       "      <td>7</td>\n",
       "      <td>4</td>\n",
       "    </tr>\n",
       "    <tr>\n",
       "      <th>3</th>\n",
       "      <td>2018-12-07</td>\n",
       "      <td>2018</td>\n",
       "      <td>12</td>\n",
       "      <td>7</td>\n",
       "      <td>4</td>\n",
       "    </tr>\n",
       "    <tr>\n",
       "      <th>4</th>\n",
       "      <td>2018-12-07</td>\n",
       "      <td>2018</td>\n",
       "      <td>12</td>\n",
       "      <td>7</td>\n",
       "      <td>4</td>\n",
       "    </tr>\n",
       "  </tbody>\n",
       "</table>\n",
       "</div>"
      ],
      "text/plain": [
       "  order_data  datetime-year  datetime-month  datetime-day  datetime-dayofweek\n",
       "0 2018-12-07           2018              12             7                   4\n",
       "1 2018-12-07           2018              12             7                   4\n",
       "2 2018-12-07           2018              12             7                   4\n",
       "3 2018-12-07           2018              12             7                   4\n",
       "4 2018-12-07           2018              12             7                   4"
      ]
     },
     "execution_count": 9,
     "metadata": {},
     "output_type": "execute_result"
    }
   ],
   "source": [
    "data[[\"order_data\", \"datetime-year\", \"datetime-month\", \"datetime-day\", \"datetime-dayofweek\"]].head()"
   ]
  },
  {
   "cell_type": "code",
   "execution_count": 10,
   "metadata": {},
   "outputs": [],
   "source": [
    "data.loc[data[\"datetime-dayofweek\"] == 0, \"datetime-dayofweek(humanized)\"] = \"Monday\"\n",
    "data.loc[data[\"datetime-dayofweek\"] == 1, \"datetime-dayofweek(humanized)\"] = \"Tuesday\"\n",
    "data.loc[data[\"datetime-dayofweek\"] == 2, \"datetime-dayofweek(humanized)\"] = \"Wednesday\"\n",
    "data.loc[data[\"datetime-dayofweek\"] == 3, \"datetime-dayofweek(humanized)\"] = \"Thursday\"\n",
    "data.loc[data[\"datetime-dayofweek\"] == 4, \"datetime-dayofweek(humanized)\"] = \"Friday\"\n",
    "data.loc[data[\"datetime-dayofweek\"] == 5, \"datetime-dayofweek(humanized)\"] = \"Saturday\"\n",
    "data.loc[data[\"datetime-dayofweek\"] == 6, \"datetime-dayofweek(humanized)\"] = \"Sunday\""
   ]
  },
  {
   "cell_type": "code",
   "execution_count": 11,
   "metadata": {},
   "outputs": [
    {
     "data": {
      "text/html": [
       "<div>\n",
       "<style scoped>\n",
       "    .dataframe tbody tr th:only-of-type {\n",
       "        vertical-align: middle;\n",
       "    }\n",
       "\n",
       "    .dataframe tbody tr th {\n",
       "        vertical-align: top;\n",
       "    }\n",
       "\n",
       "    .dataframe thead th {\n",
       "        text-align: right;\n",
       "    }\n",
       "</style>\n",
       "<table border=\"1\" class=\"dataframe\">\n",
       "  <thead>\n",
       "    <tr style=\"text-align: right;\">\n",
       "      <th></th>\n",
       "      <th>order_data</th>\n",
       "      <th>datetime-dayofweek</th>\n",
       "      <th>datetime-dayofweek(humanized)</th>\n",
       "    </tr>\n",
       "  </thead>\n",
       "  <tbody>\n",
       "    <tr>\n",
       "      <th>0</th>\n",
       "      <td>2018-12-07</td>\n",
       "      <td>4</td>\n",
       "      <td>Friday</td>\n",
       "    </tr>\n",
       "    <tr>\n",
       "      <th>1</th>\n",
       "      <td>2018-12-07</td>\n",
       "      <td>4</td>\n",
       "      <td>Friday</td>\n",
       "    </tr>\n",
       "    <tr>\n",
       "      <th>2</th>\n",
       "      <td>2018-12-07</td>\n",
       "      <td>4</td>\n",
       "      <td>Friday</td>\n",
       "    </tr>\n",
       "    <tr>\n",
       "      <th>3</th>\n",
       "      <td>2018-12-07</td>\n",
       "      <td>4</td>\n",
       "      <td>Friday</td>\n",
       "    </tr>\n",
       "    <tr>\n",
       "      <th>4</th>\n",
       "      <td>2018-12-07</td>\n",
       "      <td>4</td>\n",
       "      <td>Friday</td>\n",
       "    </tr>\n",
       "  </tbody>\n",
       "</table>\n",
       "</div>"
      ],
      "text/plain": [
       "  order_data  datetime-dayofweek datetime-dayofweek(humanized)\n",
       "0 2018-12-07                   4                        Friday\n",
       "1 2018-12-07                   4                        Friday\n",
       "2 2018-12-07                   4                        Friday\n",
       "3 2018-12-07                   4                        Friday\n",
       "4 2018-12-07                   4                        Friday"
      ]
     },
     "execution_count": 11,
     "metadata": {},
     "output_type": "execute_result"
    }
   ],
   "source": [
    "data[[\"order_data\", \"datetime-dayofweek\", \"datetime-dayofweek(humanized)\"]].head()"
   ]
  },
  {
   "cell_type": "code",
   "execution_count": 12,
   "metadata": {},
   "outputs": [
    {
     "data": {
      "text/html": [
       "<div>\n",
       "<style scoped>\n",
       "    .dataframe tbody tr th:only-of-type {\n",
       "        vertical-align: middle;\n",
       "    }\n",
       "\n",
       "    .dataframe tbody tr th {\n",
       "        vertical-align: top;\n",
       "    }\n",
       "\n",
       "    .dataframe thead th {\n",
       "        text-align: right;\n",
       "    }\n",
       "</style>\n",
       "<table border=\"1\" class=\"dataframe\">\n",
       "  <thead>\n",
       "    <tr style=\"text-align: right;\">\n",
       "      <th></th>\n",
       "      <th>결측비율 %</th>\n",
       "    </tr>\n",
       "  </thead>\n",
       "  <tbody>\n",
       "    <tr>\n",
       "      <th>std</th>\n",
       "      <td>4.165114</td>\n",
       "    </tr>\n",
       "    <tr>\n",
       "      <th>qty</th>\n",
       "      <td>4.165114</td>\n",
       "    </tr>\n",
       "  </tbody>\n",
       "</table>\n",
       "</div>"
      ],
      "text/plain": [
       "       결측비율 %\n",
       "std  4.165114\n",
       "qty  4.165114"
      ]
     },
     "execution_count": 12,
     "metadata": {},
     "output_type": "execute_result"
    }
   ],
   "source": [
    "## feature 별 결측치 비율정보\n",
    "data_na = (data.isnull().sum() / len(data))*100 \n",
    "data_na = data_na.drop(data_na[data_na == 0].index).sort_values(ascending=False)[:30]\n",
    "missing_data = pd.DataFrame({'결측비율 %' :data_na})\n",
    "missing_data.head()"
   ]
  },
  {
   "cell_type": "code",
   "execution_count": 13,
   "metadata": {},
   "outputs": [
    {
     "name": "stdout",
     "output_type": "stream",
     "text": [
      "(10954, 18)\n",
      "(10954, 18)\n"
     ]
    }
   ],
   "source": [
    "## 결측치 row 수 = 10,954 line.\n",
    "qty_null = data[data['qty'].isnull()].shape\n",
    "std_null = data[data['std'].isnull()].shape\n",
    "print(qty_null)\n",
    "print(std_null)"
   ]
  },
  {
   "cell_type": "code",
   "execution_count": 14,
   "metadata": {},
   "outputs": [
    {
     "name": "stdout",
     "output_type": "stream",
     "text": [
      "(262994, 19)\n"
     ]
    },
    {
     "data": {
      "text/html": [
       "<div>\n",
       "<style scoped>\n",
       "    .dataframe tbody tr th:only-of-type {\n",
       "        vertical-align: middle;\n",
       "    }\n",
       "\n",
       "    .dataframe tbody tr th {\n",
       "        vertical-align: top;\n",
       "    }\n",
       "\n",
       "    .dataframe thead th {\n",
       "        text-align: right;\n",
       "    }\n",
       "</style>\n",
       "<table border=\"1\" class=\"dataframe\">\n",
       "  <thead>\n",
       "    <tr style=\"text-align: right;\">\n",
       "      <th></th>\n",
       "      <th>qty</th>\n",
       "      <th>qty_fillin</th>\n",
       "    </tr>\n",
       "  </thead>\n",
       "  <tbody>\n",
       "    <tr>\n",
       "      <th>0</th>\n",
       "      <td>5.0</td>\n",
       "      <td>5.0</td>\n",
       "    </tr>\n",
       "    <tr>\n",
       "      <th>1</th>\n",
       "      <td>1.0</td>\n",
       "      <td>1.0</td>\n",
       "    </tr>\n",
       "    <tr>\n",
       "      <th>2</th>\n",
       "      <td>24.0</td>\n",
       "      <td>24.0</td>\n",
       "    </tr>\n",
       "    <tr>\n",
       "      <th>3</th>\n",
       "      <td>12.0</td>\n",
       "      <td>12.0</td>\n",
       "    </tr>\n",
       "    <tr>\n",
       "      <th>4</th>\n",
       "      <td>4.0</td>\n",
       "      <td>4.0</td>\n",
       "    </tr>\n",
       "  </tbody>\n",
       "</table>\n",
       "</div>"
      ],
      "text/plain": [
       "    qty  qty_fillin\n",
       "0   5.0         5.0\n",
       "1   1.0         1.0\n",
       "2  24.0        24.0\n",
       "3  12.0        12.0\n",
       "4   4.0         4.0"
      ]
     },
     "execution_count": 14,
     "metadata": {},
     "output_type": "execute_result"
    }
   ],
   "source": [
    "data[\"qty_fillin\"] = data[\"qty\"]\n",
    "print(data.shape)\n",
    "data[[\"qty\", \"qty_fillin\"]].head()"
   ]
  },
  {
   "cell_type": "code",
   "execution_count": 15,
   "metadata": {},
   "outputs": [
    {
     "data": {
      "text/html": [
       "<div>\n",
       "<style scoped>\n",
       "    .dataframe tbody tr th:only-of-type {\n",
       "        vertical-align: middle;\n",
       "    }\n",
       "\n",
       "    .dataframe tbody tr th {\n",
       "        vertical-align: top;\n",
       "    }\n",
       "\n",
       "    .dataframe thead th {\n",
       "        text-align: right;\n",
       "    }\n",
       "</style>\n",
       "<table border=\"1\" class=\"dataframe\">\n",
       "  <thead>\n",
       "    <tr style=\"text-align: right;\">\n",
       "      <th></th>\n",
       "      <th>qty</th>\n",
       "      <th>qty_fillin</th>\n",
       "    </tr>\n",
       "  </thead>\n",
       "  <tbody>\n",
       "    <tr>\n",
       "      <th>47</th>\n",
       "      <td>NaN</td>\n",
       "      <td>0.0</td>\n",
       "    </tr>\n",
       "    <tr>\n",
       "      <th>107</th>\n",
       "      <td>NaN</td>\n",
       "      <td>0.0</td>\n",
       "    </tr>\n",
       "    <tr>\n",
       "      <th>162</th>\n",
       "      <td>NaN</td>\n",
       "      <td>0.0</td>\n",
       "    </tr>\n",
       "    <tr>\n",
       "      <th>222</th>\n",
       "      <td>NaN</td>\n",
       "      <td>0.0</td>\n",
       "    </tr>\n",
       "    <tr>\n",
       "      <th>226</th>\n",
       "      <td>NaN</td>\n",
       "      <td>0.0</td>\n",
       "    </tr>\n",
       "    <tr>\n",
       "      <th>372</th>\n",
       "      <td>NaN</td>\n",
       "      <td>0.0</td>\n",
       "    </tr>\n",
       "    <tr>\n",
       "      <th>684</th>\n",
       "      <td>NaN</td>\n",
       "      <td>0.0</td>\n",
       "    </tr>\n",
       "    <tr>\n",
       "      <th>685</th>\n",
       "      <td>NaN</td>\n",
       "      <td>0.0</td>\n",
       "    </tr>\n",
       "    <tr>\n",
       "      <th>698</th>\n",
       "      <td>NaN</td>\n",
       "      <td>0.0</td>\n",
       "    </tr>\n",
       "    <tr>\n",
       "      <th>726</th>\n",
       "      <td>NaN</td>\n",
       "      <td>0.0</td>\n",
       "    </tr>\n",
       "    <tr>\n",
       "      <th>729</th>\n",
       "      <td>NaN</td>\n",
       "      <td>0.0</td>\n",
       "    </tr>\n",
       "    <tr>\n",
       "      <th>742</th>\n",
       "      <td>NaN</td>\n",
       "      <td>0.0</td>\n",
       "    </tr>\n",
       "    <tr>\n",
       "      <th>756</th>\n",
       "      <td>NaN</td>\n",
       "      <td>0.0</td>\n",
       "    </tr>\n",
       "    <tr>\n",
       "      <th>761</th>\n",
       "      <td>NaN</td>\n",
       "      <td>0.0</td>\n",
       "    </tr>\n",
       "    <tr>\n",
       "      <th>781</th>\n",
       "      <td>NaN</td>\n",
       "      <td>0.0</td>\n",
       "    </tr>\n",
       "    <tr>\n",
       "      <th>783</th>\n",
       "      <td>NaN</td>\n",
       "      <td>0.0</td>\n",
       "    </tr>\n",
       "    <tr>\n",
       "      <th>806</th>\n",
       "      <td>NaN</td>\n",
       "      <td>0.0</td>\n",
       "    </tr>\n",
       "    <tr>\n",
       "      <th>810</th>\n",
       "      <td>NaN</td>\n",
       "      <td>0.0</td>\n",
       "    </tr>\n",
       "    <tr>\n",
       "      <th>833</th>\n",
       "      <td>NaN</td>\n",
       "      <td>0.0</td>\n",
       "    </tr>\n",
       "    <tr>\n",
       "      <th>835</th>\n",
       "      <td>NaN</td>\n",
       "      <td>0.0</td>\n",
       "    </tr>\n",
       "    <tr>\n",
       "      <th>847</th>\n",
       "      <td>NaN</td>\n",
       "      <td>0.0</td>\n",
       "    </tr>\n",
       "    <tr>\n",
       "      <th>851</th>\n",
       "      <td>NaN</td>\n",
       "      <td>0.0</td>\n",
       "    </tr>\n",
       "    <tr>\n",
       "      <th>874</th>\n",
       "      <td>NaN</td>\n",
       "      <td>0.0</td>\n",
       "    </tr>\n",
       "    <tr>\n",
       "      <th>875</th>\n",
       "      <td>NaN</td>\n",
       "      <td>0.0</td>\n",
       "    </tr>\n",
       "    <tr>\n",
       "      <th>879</th>\n",
       "      <td>NaN</td>\n",
       "      <td>0.0</td>\n",
       "    </tr>\n",
       "    <tr>\n",
       "      <th>891</th>\n",
       "      <td>NaN</td>\n",
       "      <td>0.0</td>\n",
       "    </tr>\n",
       "    <tr>\n",
       "      <th>898</th>\n",
       "      <td>NaN</td>\n",
       "      <td>0.0</td>\n",
       "    </tr>\n",
       "    <tr>\n",
       "      <th>899</th>\n",
       "      <td>NaN</td>\n",
       "      <td>0.0</td>\n",
       "    </tr>\n",
       "    <tr>\n",
       "      <th>913</th>\n",
       "      <td>NaN</td>\n",
       "      <td>0.0</td>\n",
       "    </tr>\n",
       "    <tr>\n",
       "      <th>914</th>\n",
       "      <td>NaN</td>\n",
       "      <td>0.0</td>\n",
       "    </tr>\n",
       "    <tr>\n",
       "      <th>...</th>\n",
       "      <td>...</td>\n",
       "      <td>...</td>\n",
       "    </tr>\n",
       "    <tr>\n",
       "      <th>262677</th>\n",
       "      <td>NaN</td>\n",
       "      <td>0.0</td>\n",
       "    </tr>\n",
       "    <tr>\n",
       "      <th>262689</th>\n",
       "      <td>NaN</td>\n",
       "      <td>0.0</td>\n",
       "    </tr>\n",
       "    <tr>\n",
       "      <th>262690</th>\n",
       "      <td>NaN</td>\n",
       "      <td>0.0</td>\n",
       "    </tr>\n",
       "    <tr>\n",
       "      <th>262692</th>\n",
       "      <td>NaN</td>\n",
       "      <td>0.0</td>\n",
       "    </tr>\n",
       "    <tr>\n",
       "      <th>262696</th>\n",
       "      <td>NaN</td>\n",
       "      <td>0.0</td>\n",
       "    </tr>\n",
       "    <tr>\n",
       "      <th>262699</th>\n",
       "      <td>NaN</td>\n",
       "      <td>0.0</td>\n",
       "    </tr>\n",
       "    <tr>\n",
       "      <th>262703</th>\n",
       "      <td>NaN</td>\n",
       "      <td>0.0</td>\n",
       "    </tr>\n",
       "    <tr>\n",
       "      <th>262704</th>\n",
       "      <td>NaN</td>\n",
       "      <td>0.0</td>\n",
       "    </tr>\n",
       "    <tr>\n",
       "      <th>262709</th>\n",
       "      <td>NaN</td>\n",
       "      <td>0.0</td>\n",
       "    </tr>\n",
       "    <tr>\n",
       "      <th>262723</th>\n",
       "      <td>NaN</td>\n",
       "      <td>0.0</td>\n",
       "    </tr>\n",
       "    <tr>\n",
       "      <th>262725</th>\n",
       "      <td>NaN</td>\n",
       "      <td>0.0</td>\n",
       "    </tr>\n",
       "    <tr>\n",
       "      <th>262730</th>\n",
       "      <td>NaN</td>\n",
       "      <td>0.0</td>\n",
       "    </tr>\n",
       "    <tr>\n",
       "      <th>262731</th>\n",
       "      <td>NaN</td>\n",
       "      <td>0.0</td>\n",
       "    </tr>\n",
       "    <tr>\n",
       "      <th>262735</th>\n",
       "      <td>NaN</td>\n",
       "      <td>0.0</td>\n",
       "    </tr>\n",
       "    <tr>\n",
       "      <th>262738</th>\n",
       "      <td>NaN</td>\n",
       "      <td>0.0</td>\n",
       "    </tr>\n",
       "    <tr>\n",
       "      <th>262746</th>\n",
       "      <td>NaN</td>\n",
       "      <td>0.0</td>\n",
       "    </tr>\n",
       "    <tr>\n",
       "      <th>262747</th>\n",
       "      <td>NaN</td>\n",
       "      <td>0.0</td>\n",
       "    </tr>\n",
       "    <tr>\n",
       "      <th>262748</th>\n",
       "      <td>NaN</td>\n",
       "      <td>0.0</td>\n",
       "    </tr>\n",
       "    <tr>\n",
       "      <th>262750</th>\n",
       "      <td>NaN</td>\n",
       "      <td>0.0</td>\n",
       "    </tr>\n",
       "    <tr>\n",
       "      <th>262751</th>\n",
       "      <td>NaN</td>\n",
       "      <td>0.0</td>\n",
       "    </tr>\n",
       "    <tr>\n",
       "      <th>262769</th>\n",
       "      <td>NaN</td>\n",
       "      <td>0.0</td>\n",
       "    </tr>\n",
       "    <tr>\n",
       "      <th>262777</th>\n",
       "      <td>NaN</td>\n",
       "      <td>0.0</td>\n",
       "    </tr>\n",
       "    <tr>\n",
       "      <th>262814</th>\n",
       "      <td>NaN</td>\n",
       "      <td>0.0</td>\n",
       "    </tr>\n",
       "    <tr>\n",
       "      <th>262816</th>\n",
       "      <td>NaN</td>\n",
       "      <td>0.0</td>\n",
       "    </tr>\n",
       "    <tr>\n",
       "      <th>262868</th>\n",
       "      <td>NaN</td>\n",
       "      <td>0.0</td>\n",
       "    </tr>\n",
       "    <tr>\n",
       "      <th>262888</th>\n",
       "      <td>NaN</td>\n",
       "      <td>0.0</td>\n",
       "    </tr>\n",
       "    <tr>\n",
       "      <th>262919</th>\n",
       "      <td>NaN</td>\n",
       "      <td>0.0</td>\n",
       "    </tr>\n",
       "    <tr>\n",
       "      <th>262935</th>\n",
       "      <td>NaN</td>\n",
       "      <td>0.0</td>\n",
       "    </tr>\n",
       "    <tr>\n",
       "      <th>262956</th>\n",
       "      <td>NaN</td>\n",
       "      <td>0.0</td>\n",
       "    </tr>\n",
       "    <tr>\n",
       "      <th>262965</th>\n",
       "      <td>NaN</td>\n",
       "      <td>0.0</td>\n",
       "    </tr>\n",
       "  </tbody>\n",
       "</table>\n",
       "<p>10954 rows × 2 columns</p>\n",
       "</div>"
      ],
      "text/plain": [
       "        qty  qty_fillin\n",
       "47      NaN         0.0\n",
       "107     NaN         0.0\n",
       "162     NaN         0.0\n",
       "222     NaN         0.0\n",
       "226     NaN         0.0\n",
       "372     NaN         0.0\n",
       "684     NaN         0.0\n",
       "685     NaN         0.0\n",
       "698     NaN         0.0\n",
       "726     NaN         0.0\n",
       "729     NaN         0.0\n",
       "742     NaN         0.0\n",
       "756     NaN         0.0\n",
       "761     NaN         0.0\n",
       "781     NaN         0.0\n",
       "783     NaN         0.0\n",
       "806     NaN         0.0\n",
       "810     NaN         0.0\n",
       "833     NaN         0.0\n",
       "835     NaN         0.0\n",
       "847     NaN         0.0\n",
       "851     NaN         0.0\n",
       "874     NaN         0.0\n",
       "875     NaN         0.0\n",
       "879     NaN         0.0\n",
       "891     NaN         0.0\n",
       "898     NaN         0.0\n",
       "899     NaN         0.0\n",
       "913     NaN         0.0\n",
       "914     NaN         0.0\n",
       "...     ...         ...\n",
       "262677  NaN         0.0\n",
       "262689  NaN         0.0\n",
       "262690  NaN         0.0\n",
       "262692  NaN         0.0\n",
       "262696  NaN         0.0\n",
       "262699  NaN         0.0\n",
       "262703  NaN         0.0\n",
       "262704  NaN         0.0\n",
       "262709  NaN         0.0\n",
       "262723  NaN         0.0\n",
       "262725  NaN         0.0\n",
       "262730  NaN         0.0\n",
       "262731  NaN         0.0\n",
       "262735  NaN         0.0\n",
       "262738  NaN         0.0\n",
       "262746  NaN         0.0\n",
       "262747  NaN         0.0\n",
       "262748  NaN         0.0\n",
       "262750  NaN         0.0\n",
       "262751  NaN         0.0\n",
       "262769  NaN         0.0\n",
       "262777  NaN         0.0\n",
       "262814  NaN         0.0\n",
       "262816  NaN         0.0\n",
       "262868  NaN         0.0\n",
       "262888  NaN         0.0\n",
       "262919  NaN         0.0\n",
       "262935  NaN         0.0\n",
       "262956  NaN         0.0\n",
       "262965  NaN         0.0\n",
       "\n",
       "[10954 rows x 2 columns]"
      ]
     },
     "execution_count": 15,
     "metadata": {},
     "output_type": "execute_result"
    }
   ],
   "source": [
    "#qty의 결측치를 0으로 대체\n",
    "data.loc[data[\"qty\"].isnull(), \"qty_fillin\"] = 0\n",
    "data.loc[data[\"qty\"].isnull(), [\"qty\", \"qty_fillin\"]]"
   ]
  },
  {
   "cell_type": "code",
   "execution_count": 16,
   "metadata": {},
   "outputs": [],
   "source": [
    "#qty 아웃라이어를 평균으로 대체\n",
    "data.loc[data[\"qty\"]==333333, \"qty_fillin\"] = 16.392180"
   ]
  },
  {
   "cell_type": "code",
   "execution_count": 17,
   "metadata": {},
   "outputs": [
    {
     "data": {
      "text/html": [
       "<div>\n",
       "<style scoped>\n",
       "    .dataframe tbody tr th:only-of-type {\n",
       "        vertical-align: middle;\n",
       "    }\n",
       "\n",
       "    .dataframe tbody tr th {\n",
       "        vertical-align: top;\n",
       "    }\n",
       "\n",
       "    .dataframe thead th {\n",
       "        text-align: right;\n",
       "    }\n",
       "</style>\n",
       "<table border=\"1\" class=\"dataframe\">\n",
       "  <thead>\n",
       "    <tr style=\"text-align: right;\">\n",
       "      <th></th>\n",
       "      <th>qty</th>\n",
       "      <th>qty_fillin</th>\n",
       "    </tr>\n",
       "  </thead>\n",
       "  <tbody>\n",
       "    <tr>\n",
       "      <th>count</th>\n",
       "      <td>252040.000000</td>\n",
       "      <td>262994.000000</td>\n",
       "    </tr>\n",
       "    <tr>\n",
       "      <th>mean</th>\n",
       "      <td>18.427083</td>\n",
       "      <td>16.392182</td>\n",
       "    </tr>\n",
       "    <tr>\n",
       "      <th>std</th>\n",
       "      <td>675.519398</td>\n",
       "      <td>122.026519</td>\n",
       "    </tr>\n",
       "    <tr>\n",
       "      <th>min</th>\n",
       "      <td>-8.000000</td>\n",
       "      <td>-8.000000</td>\n",
       "    </tr>\n",
       "    <tr>\n",
       "      <th>25%</th>\n",
       "      <td>1.000000</td>\n",
       "      <td>1.000000</td>\n",
       "    </tr>\n",
       "    <tr>\n",
       "      <th>50%</th>\n",
       "      <td>2.000000</td>\n",
       "      <td>2.000000</td>\n",
       "    </tr>\n",
       "    <tr>\n",
       "      <th>75%</th>\n",
       "      <td>6.000000</td>\n",
       "      <td>6.000000</td>\n",
       "    </tr>\n",
       "    <tr>\n",
       "      <th>max</th>\n",
       "      <td>333333.000000</td>\n",
       "      <td>8000.000000</td>\n",
       "    </tr>\n",
       "  </tbody>\n",
       "</table>\n",
       "</div>"
      ],
      "text/plain": [
       "                 qty     qty_fillin\n",
       "count  252040.000000  262994.000000\n",
       "mean       18.427083      16.392182\n",
       "std       675.519398     122.026519\n",
       "min        -8.000000      -8.000000\n",
       "25%         1.000000       1.000000\n",
       "50%         2.000000       2.000000\n",
       "75%         6.000000       6.000000\n",
       "max    333333.000000    8000.000000"
      ]
     },
     "execution_count": 17,
     "metadata": {},
     "output_type": "execute_result"
    }
   ],
   "source": [
    "data[['qty', 'qty_fillin']].describe()"
   ]
  },
  {
   "cell_type": "code",
   "execution_count": 265,
   "metadata": {},
   "outputs": [
    {
     "data": {
      "text/html": [
       "<div>\n",
       "<style scoped>\n",
       "    .dataframe tbody tr th:only-of-type {\n",
       "        vertical-align: middle;\n",
       "    }\n",
       "\n",
       "    .dataframe tbody tr th {\n",
       "        vertical-align: top;\n",
       "    }\n",
       "\n",
       "    .dataframe thead th {\n",
       "        text-align: right;\n",
       "    }\n",
       "</style>\n",
       "<table border=\"1\" class=\"dataframe\">\n",
       "  <thead>\n",
       "    <tr style=\"text-align: right;\">\n",
       "      <th></th>\n",
       "      <th>order_data</th>\n",
       "      <th>FC_code</th>\n",
       "      <th>FC_name</th>\n",
       "      <th>ST_code</th>\n",
       "      <th>ct_L_code</th>\n",
       "      <th>ct_L_name</th>\n",
       "      <th>ct_M_code</th>\n",
       "      <th>ct_M_name</th>\n",
       "      <th>ct_S_code</th>\n",
       "      <th>ct_S_name</th>\n",
       "      <th>sku_code</th>\n",
       "      <th>qty</th>\n",
       "      <th>std</th>\n",
       "      <th>datetime-year</th>\n",
       "      <th>datetime-month</th>\n",
       "      <th>datetime-day</th>\n",
       "      <th>datetime-dayofweek</th>\n",
       "      <th>datetime-dayofweek(humanized)</th>\n",
       "      <th>qty_fillin</th>\n",
       "      <th>std_fillin</th>\n",
       "    </tr>\n",
       "  </thead>\n",
       "  <tbody>\n",
       "  </tbody>\n",
       "</table>\n",
       "</div>"
      ],
      "text/plain": [
       "Empty DataFrame\n",
       "Columns: [order_data, FC_code, FC_name, ST_code, ct_L_code, ct_L_name, ct_M_code, ct_M_name, ct_S_code, ct_S_name, sku_code, qty, std, datetime-year, datetime-month, datetime-day, datetime-dayofweek, datetime-dayofweek(humanized), qty_fillin, std_fillin]\n",
       "Index: []"
      ]
     },
     "execution_count": 265,
     "metadata": {},
     "output_type": "execute_result"
    }
   ],
   "source": [
    "data[data['qty_fillin'].isna()]"
   ]
  },
  {
   "cell_type": "code",
   "execution_count": 266,
   "metadata": {},
   "outputs": [
    {
     "name": "stdout",
     "output_type": "stream",
     "text": [
      "(262994, 20)\n"
     ]
    },
    {
     "data": {
      "text/html": [
       "<div>\n",
       "<style scoped>\n",
       "    .dataframe tbody tr th:only-of-type {\n",
       "        vertical-align: middle;\n",
       "    }\n",
       "\n",
       "    .dataframe tbody tr th {\n",
       "        vertical-align: top;\n",
       "    }\n",
       "\n",
       "    .dataframe thead th {\n",
       "        text-align: right;\n",
       "    }\n",
       "</style>\n",
       "<table border=\"1\" class=\"dataframe\">\n",
       "  <thead>\n",
       "    <tr style=\"text-align: right;\">\n",
       "      <th></th>\n",
       "      <th>std</th>\n",
       "      <th>std_fillin</th>\n",
       "    </tr>\n",
       "  </thead>\n",
       "  <tbody>\n",
       "    <tr>\n",
       "      <th>0</th>\n",
       "      <td>BOX</td>\n",
       "      <td>BOX</td>\n",
       "    </tr>\n",
       "    <tr>\n",
       "      <th>1</th>\n",
       "      <td>EA</td>\n",
       "      <td>EA</td>\n",
       "    </tr>\n",
       "    <tr>\n",
       "      <th>2</th>\n",
       "      <td>EA</td>\n",
       "      <td>EA</td>\n",
       "    </tr>\n",
       "    <tr>\n",
       "      <th>3</th>\n",
       "      <td>EA</td>\n",
       "      <td>EA</td>\n",
       "    </tr>\n",
       "    <tr>\n",
       "      <th>4</th>\n",
       "      <td>EA</td>\n",
       "      <td>EA</td>\n",
       "    </tr>\n",
       "  </tbody>\n",
       "</table>\n",
       "</div>"
      ],
      "text/plain": [
       "   std std_fillin\n",
       "0  BOX        BOX\n",
       "1   EA         EA\n",
       "2   EA         EA\n",
       "3   EA         EA\n",
       "4   EA         EA"
      ]
     },
     "execution_count": 266,
     "metadata": {},
     "output_type": "execute_result"
    }
   ],
   "source": [
    "data[\"std_fillin\"] = data[\"std\"]\n",
    "print(data.shape)\n",
    "data[[\"std\", \"std_fillin\"]].head()"
   ]
  },
  {
   "cell_type": "code",
   "execution_count": null,
   "metadata": {},
   "outputs": [],
   "source": []
  },
  {
   "cell_type": "code",
   "execution_count": 267,
   "metadata": {},
   "outputs": [
    {
     "data": {
      "text/html": [
       "<div>\n",
       "<style scoped>\n",
       "    .dataframe tbody tr th:only-of-type {\n",
       "        vertical-align: middle;\n",
       "    }\n",
       "\n",
       "    .dataframe tbody tr th {\n",
       "        vertical-align: top;\n",
       "    }\n",
       "\n",
       "    .dataframe thead th {\n",
       "        text-align: right;\n",
       "    }\n",
       "</style>\n",
       "<table border=\"1\" class=\"dataframe\">\n",
       "  <thead>\n",
       "    <tr style=\"text-align: right;\">\n",
       "      <th></th>\n",
       "      <th>std</th>\n",
       "      <th>std_fillin</th>\n",
       "    </tr>\n",
       "  </thead>\n",
       "  <tbody>\n",
       "  </tbody>\n",
       "</table>\n",
       "</div>"
      ],
      "text/plain": [
       "Empty DataFrame\n",
       "Columns: [std, std_fillin]\n",
       "Index: []"
      ]
     },
     "execution_count": 267,
     "metadata": {},
     "output_type": "execute_result"
    }
   ],
   "source": [
    "#qty의 결측치를 0으로 대체\n",
    "data.loc[data[\"std\"].isnull(), \"std\"] = \"EA\"\n",
    "data.loc[data[\"std\"].isnull(), [\"std\", \"std_fillin\"]]"
   ]
  },
  {
   "cell_type": "code",
   "execution_count": 278,
   "metadata": {},
   "outputs": [
    {
     "name": "stderr",
     "output_type": "stream",
     "text": [
      "C:\\Users\\tkim29\\AppData\\Local\\Continuum\\anaconda3\\lib\\site-packages\\scipy\\stats\\stats.py:1713: FutureWarning: Using a non-tuple sequence for multidimensional indexing is deprecated; use `arr[tuple(seq)]` instead of `arr[seq]`. In the future this will be interpreted as an array index, `arr[np.array(seq)]`, which will result either in an error or a different result.\n",
      "  return np.add.reduce(sorted[indexer] * weights, axis=axis) / sumval\n"
     ]
    },
    {
     "data": {
      "text/plain": [
       "<matplotlib.axes._subplots.AxesSubplot at 0x24a04206860>"
      ]
     },
     "execution_count": 278,
     "metadata": {},
     "output_type": "execute_result"
    },
    {
     "data": {
      "image/png": "[encoded data removed]",
      "text/plain": [
       "<Figure size 432x288 with 1 Axes>"
      ]
     },
     "metadata": {
      "needs_background": "light"
     },
     "output_type": "display_data"
    }
   ],
   "source": [
    "sns.pointplot(data=data, x=\"datetime-day\", y=\"qty_fillin\", hue=\"ct_L_name\")"
   ]
  },
  {
   "cell_type": "code",
   "execution_count": 262,
   "metadata": {},
   "outputs": [
    {
     "name": "stderr",
     "output_type": "stream",
     "text": [
      "C:\\Users\\tkim29\\AppData\\Local\\Continuum\\anaconda3\\lib\\site-packages\\scipy\\stats\\stats.py:1713: FutureWarning: Using a non-tuple sequence for multidimensional indexing is deprecated; use `arr[tuple(seq)]` instead of `arr[seq]`. In the future this will be interpreted as an array index, `arr[np.array(seq)]`, which will result either in an error or a different result.\n",
      "  return np.add.reduce(sorted[indexer] * weights, axis=axis) / sumval\n"
     ]
    },
    {
     "data": {
      "text/plain": [
       "<matplotlib.axes._subplots.AxesSubplot at 0x24a1179cf98>"
      ]
     },
     "execution_count": 262,
     "metadata": {},
     "output_type": "execute_result"
    },
    {
     "data": {
      "image/png": "[encoded data removed]",
      "text/plain": [
       "<Figure size 432x288 with 1 Axes>"
      ]
     },
     "metadata": {
      "needs_background": "light"
     },
     "output_type": "display_data"
    }
   ],
   "source": [
    "sns.distplot(data[\"qty_fillin\"])"
   ]
  },
  {
   "cell_type": "markdown",
   "metadata": {},
   "source": [
    "## EDA"
   ]
  },
  {
   "cell_type": "code",
   "execution_count": 110,
   "metadata": {},
   "outputs": [],
   "source": [
    "%matplotlib inline\n",
    "import seaborn as sns\n",
    "import matplotlib.pyplot as plt\n",
    "plt.rc('font', family='Malgun Gothic') #sns 한글화"
   ]
  },
  {
   "cell_type": "code",
   "execution_count": null,
   "metadata": {},
   "outputs": [],
   "source": []
  },
  {
   "cell_type": "code",
   "execution_count": 93,
   "metadata": {},
   "outputs": [
    {
     "name": "stderr",
     "output_type": "stream",
     "text": [
      "C:\\Users\\tkim29\\AppData\\Local\\Continuum\\anaconda3\\lib\\site-packages\\scipy\\stats\\stats.py:1713: FutureWarning: Using a non-tuple sequence for multidimensional indexing is deprecated; use `arr[tuple(seq)]` instead of `arr[seq]`. In the future this will be interpreted as an array index, `arr[np.array(seq)]`, which will result either in an error or a different result.\n",
      "  return np.add.reduce(sorted[indexer] * weights, axis=axis) / sumval\n"
     ]
    },
    {
     "data": {
      "text/plain": [
       "<matplotlib.axes._subplots.AxesSubplot at 0x24a0ad26198>"
      ]
     },
     "execution_count": 93,
     "metadata": {},
     "output_type": "execute_result"
    },
    {
     "data": {
      "image/png": "[encoded data removed]",
      "text/plain": [
       "<Figure size 1296x576 with 3 Axes>"
      ]
     },
     "metadata": {
      "needs_background": "light"
     },
     "output_type": "display_data"
    }
   ],
   "source": [
    "figure, ((ax1, ax2, ax3)) = plt.subplots(nrows=1, ncols=3)\n",
    "# 시각화의 전체 사이즈는 18x8로 설정합니다.\n",
    "figure.set_size_inches(18, 8)\n",
    "sns.barplot(data=data, x=\"datetime-year\", y=\"qty\", ax=ax1)\n",
    "sns.barplot(data=data, x=\"datetime-month\", y=\"qty\", ax=ax2)\n",
    "sns.barplot(data=data, x=\"datetime-day\", y=\"qty\", ax=ax3)"
   ]
  },
  {
   "cell_type": "code",
   "execution_count": 296,
   "metadata": {},
   "outputs": [
    {
     "name": "stderr",
     "output_type": "stream",
     "text": [
      "C:\\Users\\tkim29\\AppData\\Local\\Continuum\\anaconda3\\lib\\site-packages\\scipy\\stats\\stats.py:1713: FutureWarning: Using a non-tuple sequence for multidimensional indexing is deprecated; use `arr[tuple(seq)]` instead of `arr[seq]`. In the future this will be interpreted as an array index, `arr[np.array(seq)]`, which will result either in an error or a different result.\n",
      "  return np.add.reduce(sorted[indexer] * weights, axis=axis) / sumval\n"
     ]
    },
    {
     "data": {
      "text/plain": [
       "<matplotlib.axes._subplots.AxesSubplot at 0x24a058cc400>"
      ]
     },
     "execution_count": 296,
     "metadata": {},
     "output_type": "execute_result"
    },
    {
     "data": {
      "image/png": "[encoded data removed]",
      "text/plain": [
       "<Figure size 1296x576 with 3 Axes>"
      ]
     },
     "metadata": {
      "needs_background": "light"
     },
     "output_type": "display_data"
    }
   ],
   "source": [
    "figure, ((ax1, ax2, ax3)) = plt.subplots(nrows=1, ncols=3)\n",
    "# 시각화의 전체 사이즈는 18x8로 설정합니다.\n",
    "figure.set_size_inches(18, 8)\n",
    "sns.barplot(data=data, x=\"datetime-year\", y=\"qty_fillin\", ax=ax1)\n",
    "sns.barplot(data=data, x=\"datetime-month\", y=\"qty_fillin\", ax=ax2)\n",
    "sns.barplot(data=data, x=\"datetime-day\", y=\"qty_fillin\", ax=ax3)"
   ]
  },
  {
   "cell_type": "code",
   "execution_count": 298,
   "metadata": {},
   "outputs": [
    {
     "data": {
      "text/plain": [
       "<function matplotlib.pyplot.show(*args, **kw)>"
      ]
     },
     "execution_count": 298,
     "metadata": {},
     "output_type": "execute_result"
    },
    {
     "data": {
      "image/png": "[encoded data removed]",
      "text/plain": [
       "<Figure size 432x288 with 1 Axes>"
      ]
     },
     "metadata": {
      "needs_background": "light"
     },
     "output_type": "display_data"
    }
   ],
   "source": [
    "sns.boxplot(x=\"datetime-dayofweek\", y=\"qty_fillin\", data=data)\n",
    "plt.show"
   ]
  },
  {
   "cell_type": "code",
   "execution_count": 300,
   "metadata": {},
   "outputs": [],
   "source": [
    "#outlier 발견됨. 따라서 확대해서 시각화 수행\n",
    "outlier = data[data[\"qty\"] > 300000]"
   ]
  },
  {
   "cell_type": "code",
   "execution_count": 301,
   "metadata": {},
   "outputs": [
    {
     "data": {
      "text/plain": [
       "<seaborn.axisgrid.FacetGrid at 0x24a06332400>"
      ]
     },
     "execution_count": 301,
     "metadata": {},
     "output_type": "execute_result"
    },
    {
     "data": {
      "image/png": "[encoded data removed]",
      "text/plain": [
       "<Figure size 429.75x360 with 1 Axes>"
      ]
     },
     "metadata": {
      "needs_background": "light"
     },
     "output_type": "display_data"
    }
   ],
   "source": [
    "sns.lmplot(data=outlier, x=\"datetime-dayofweek(humanized)\", y=\"qty\", fit_reg=False, \n",
    "           hue=\"FC_name\")"
   ]
  },
  {
   "cell_type": "code",
   "execution_count": null,
   "metadata": {},
   "outputs": [],
   "source": []
  },
  {
   "cell_type": "code",
   "execution_count": 302,
   "metadata": {},
   "outputs": [
    {
     "data": {
      "text/plain": [
       "<matplotlib.axes._subplots.AxesSubplot at 0x24a065464a8>"
      ]
     },
     "execution_count": 302,
     "metadata": {},
     "output_type": "execute_result"
    },
    {
     "data": {
      "image/png": "[encoded data removed]",
      "text/plain": [
       "<Figure size 432x288 with 1 Axes>"
      ]
     },
     "metadata": {
      "needs_background": "light"
     },
     "output_type": "display_data"
    }
   ],
   "source": [
    "sns.countplot(data=data, x=\"datetime-dayofweek\")"
   ]
  },
  {
   "cell_type": "code",
   "execution_count": 288,
   "metadata": {},
   "outputs": [
    {
     "name": "stderr",
     "output_type": "stream",
     "text": [
      "C:\\Users\\tkim29\\AppData\\Local\\Continuum\\anaconda3\\lib\\site-packages\\scipy\\stats\\stats.py:1713: FutureWarning: Using a non-tuple sequence for multidimensional indexing is deprecated; use `arr[tuple(seq)]` instead of `arr[seq]`. In the future this will be interpreted as an array index, `arr[np.array(seq)]`, which will result either in an error or a different result.\n",
      "  return np.add.reduce(sorted[indexer] * weights, axis=axis) / sumval\n"
     ]
    },
    {
     "data": {
      "text/plain": [
       "<matplotlib.axes._subplots.AxesSubplot at 0x24a08054898>"
      ]
     },
     "execution_count": 288,
     "metadata": {},
     "output_type": "execute_result"
    },
    {
     "data": {
      "image/png": "[encoded data removed]",
      "text/plain": [
       "<Figure size 432x288 with 1 Axes>"
      ]
     },
     "metadata": {
      "needs_background": "light"
     },
     "output_type": "display_data"
    }
   ],
   "source": [
    "sns.pointplot(data = data, x=\"datetime-dayofweek\", y=\"qty_fillin\")"
   ]
  },
  {
   "cell_type": "code",
   "execution_count": 303,
   "metadata": {},
   "outputs": [
    {
     "data": {
      "text/html": [
       "<div>\n",
       "<style scoped>\n",
       "    .dataframe tbody tr th:only-of-type {\n",
       "        vertical-align: middle;\n",
       "    }\n",
       "\n",
       "    .dataframe tbody tr th {\n",
       "        vertical-align: top;\n",
       "    }\n",
       "\n",
       "    .dataframe thead th {\n",
       "        text-align: right;\n",
       "    }\n",
       "</style>\n",
       "<table border=\"1\" class=\"dataframe\">\n",
       "  <thead>\n",
       "    <tr style=\"text-align: right;\">\n",
       "      <th></th>\n",
       "      <th>order_data</th>\n",
       "      <th>FC_code</th>\n",
       "      <th>FC_name</th>\n",
       "      <th>ST_code</th>\n",
       "      <th>ct_L_code</th>\n",
       "      <th>ct_L_name</th>\n",
       "      <th>ct_M_code</th>\n",
       "      <th>ct_M_name</th>\n",
       "      <th>ct_S_code</th>\n",
       "      <th>ct_S_name</th>\n",
       "      <th>sku_code</th>\n",
       "      <th>qty</th>\n",
       "      <th>std</th>\n",
       "      <th>datetime-year</th>\n",
       "      <th>datetime-month</th>\n",
       "      <th>datetime-day</th>\n",
       "      <th>datetime-dayofweek</th>\n",
       "      <th>datetime-dayofweek(humanized)</th>\n",
       "      <th>qty_fillin</th>\n",
       "      <th>std_fillin</th>\n",
       "    </tr>\n",
       "  </thead>\n",
       "  <tbody>\n",
       "    <tr>\n",
       "      <th>0</th>\n",
       "      <td>2018-12-07</td>\n",
       "      <td>10241</td>\n",
       "      <td>café_37</td>\n",
       "      <td>16444</td>\n",
       "      <td>10</td>\n",
       "      <td>가공식품</td>\n",
       "      <td>15</td>\n",
       "      <td>조미식품</td>\n",
       "      <td>11</td>\n",
       "      <td>조미료</td>\n",
       "      <td>120165</td>\n",
       "      <td>5.0</td>\n",
       "      <td>BOX</td>\n",
       "      <td>2018</td>\n",
       "      <td>12</td>\n",
       "      <td>7</td>\n",
       "      <td>4</td>\n",
       "      <td>Friday</td>\n",
       "      <td>5.0</td>\n",
       "      <td>BOX</td>\n",
       "    </tr>\n",
       "    <tr>\n",
       "      <th>1</th>\n",
       "      <td>2018-12-07</td>\n",
       "      <td>10241</td>\n",
       "      <td>café_37</td>\n",
       "      <td>16444</td>\n",
       "      <td>10</td>\n",
       "      <td>가공식품</td>\n",
       "      <td>10</td>\n",
       "      <td>유가공품</td>\n",
       "      <td>13</td>\n",
       "      <td>치즈류</td>\n",
       "      <td>100323</td>\n",
       "      <td>1.0</td>\n",
       "      <td>EA</td>\n",
       "      <td>2018</td>\n",
       "      <td>12</td>\n",
       "      <td>7</td>\n",
       "      <td>4</td>\n",
       "      <td>Friday</td>\n",
       "      <td>1.0</td>\n",
       "      <td>EA</td>\n",
       "    </tr>\n",
       "    <tr>\n",
       "      <th>2</th>\n",
       "      <td>2018-12-07</td>\n",
       "      <td>10241</td>\n",
       "      <td>café_37</td>\n",
       "      <td>16444</td>\n",
       "      <td>10</td>\n",
       "      <td>가공식품</td>\n",
       "      <td>19</td>\n",
       "      <td>캔/김치/편의식/기타</td>\n",
       "      <td>10</td>\n",
       "      <td>캔제품</td>\n",
       "      <td>100479</td>\n",
       "      <td>24.0</td>\n",
       "      <td>EA</td>\n",
       "      <td>2018</td>\n",
       "      <td>12</td>\n",
       "      <td>7</td>\n",
       "      <td>4</td>\n",
       "      <td>Friday</td>\n",
       "      <td>24.0</td>\n",
       "      <td>EA</td>\n",
       "    </tr>\n",
       "    <tr>\n",
       "      <th>3</th>\n",
       "      <td>2018-12-07</td>\n",
       "      <td>10241</td>\n",
       "      <td>café_37</td>\n",
       "      <td>16444</td>\n",
       "      <td>10</td>\n",
       "      <td>가공식품</td>\n",
       "      <td>13</td>\n",
       "      <td>분말가공</td>\n",
       "      <td>12</td>\n",
       "      <td>곡물가공기타</td>\n",
       "      <td>104176</td>\n",
       "      <td>12.0</td>\n",
       "      <td>EA</td>\n",
       "      <td>2018</td>\n",
       "      <td>12</td>\n",
       "      <td>7</td>\n",
       "      <td>4</td>\n",
       "      <td>Friday</td>\n",
       "      <td>12.0</td>\n",
       "      <td>EA</td>\n",
       "    </tr>\n",
       "    <tr>\n",
       "      <th>4</th>\n",
       "      <td>2018-12-07</td>\n",
       "      <td>10241</td>\n",
       "      <td>café_37</td>\n",
       "      <td>16444</td>\n",
       "      <td>10</td>\n",
       "      <td>가공식품</td>\n",
       "      <td>19</td>\n",
       "      <td>캔/김치/편의식/기타</td>\n",
       "      <td>13</td>\n",
       "      <td>가공식품기타</td>\n",
       "      <td>119183</td>\n",
       "      <td>4.0</td>\n",
       "      <td>EA</td>\n",
       "      <td>2018</td>\n",
       "      <td>12</td>\n",
       "      <td>7</td>\n",
       "      <td>4</td>\n",
       "      <td>Friday</td>\n",
       "      <td>4.0</td>\n",
       "      <td>EA</td>\n",
       "    </tr>\n",
       "  </tbody>\n",
       "</table>\n",
       "</div>"
      ],
      "text/plain": [
       "  order_data  FC_code  FC_name  ST_code  ct_L_code ct_L_name  ct_M_code  \\\n",
       "0 2018-12-07    10241  café_37    16444         10      가공식품         15   \n",
       "1 2018-12-07    10241  café_37    16444         10      가공식품         10   \n",
       "2 2018-12-07    10241  café_37    16444         10      가공식품         19   \n",
       "3 2018-12-07    10241  café_37    16444         10      가공식품         13   \n",
       "4 2018-12-07    10241  café_37    16444         10      가공식품         19   \n",
       "\n",
       "     ct_M_name  ct_S_code ct_S_name  sku_code   qty  std  datetime-year  \\\n",
       "0         조미식품         11       조미료    120165   5.0  BOX           2018   \n",
       "1         유가공품         13       치즈류    100323   1.0   EA           2018   \n",
       "2  캔/김치/편의식/기타         10       캔제품    100479  24.0   EA           2018   \n",
       "3         분말가공         12    곡물가공기타    104176  12.0   EA           2018   \n",
       "4  캔/김치/편의식/기타         13    가공식품기타    119183   4.0   EA           2018   \n",
       "\n",
       "   datetime-month  datetime-day  datetime-dayofweek  \\\n",
       "0              12             7                   4   \n",
       "1              12             7                   4   \n",
       "2              12             7                   4   \n",
       "3              12             7                   4   \n",
       "4              12             7                   4   \n",
       "\n",
       "  datetime-dayofweek(humanized)  qty_fillin std_fillin  \n",
       "0                        Friday         5.0        BOX  \n",
       "1                        Friday         1.0         EA  \n",
       "2                        Friday        24.0         EA  \n",
       "3                        Friday        12.0         EA  \n",
       "4                        Friday         4.0         EA  "
      ]
     },
     "execution_count": 303,
     "metadata": {},
     "output_type": "execute_result"
    }
   ],
   "source": [
    "data.head()"
   ]
  },
  {
   "cell_type": "markdown",
   "metadata": {},
   "source": [
    "## K-Means Clustering Try!"
   ]
  },
  {
   "cell_type": "code",
   "execution_count": 356,
   "metadata": {},
   "outputs": [],
   "source": [
    "\n",
    "feature = data[ ['ct_S_code','qty_fillin']]\n",
    "\n",
    "feature.head()\n",
    "\n",
    "from sklearn.cluster import KMeans\n",
    "\n",
    "import matplotlib.pyplot  as plt\n",
    "\n",
    "import seaborn as sns\n",
    "\n",
    "\n",
    "\n",
    "# create model and prediction\n",
    "\n",
    "model = KMeans(n_clusters=4,algorithm='auto')\n",
    "\n",
    "model.fit(feature)\n",
    "\n",
    "predict = pd.DataFrame(model.predict(feature))\n",
    "\n",
    "predict.columns=['predict']\n",
    "\n"
   ]
  },
  {
   "cell_type": "code",
   "execution_count": 357,
   "metadata": {},
   "outputs": [
    {
     "data": {
      "text/html": [
       "<div>\n",
       "<style scoped>\n",
       "    .dataframe tbody tr th:only-of-type {\n",
       "        vertical-align: middle;\n",
       "    }\n",
       "\n",
       "    .dataframe tbody tr th {\n",
       "        vertical-align: top;\n",
       "    }\n",
       "\n",
       "    .dataframe thead th {\n",
       "        text-align: right;\n",
       "    }\n",
       "</style>\n",
       "<table border=\"1\" class=\"dataframe\">\n",
       "  <thead>\n",
       "    <tr style=\"text-align: right;\">\n",
       "      <th></th>\n",
       "      <th>ct_S_code</th>\n",
       "      <th>qty_fillin</th>\n",
       "      <th>predict</th>\n",
       "    </tr>\n",
       "  </thead>\n",
       "  <tbody>\n",
       "    <tr>\n",
       "      <th>0</th>\n",
       "      <td>11</td>\n",
       "      <td>5.0</td>\n",
       "      <td>0</td>\n",
       "    </tr>\n",
       "    <tr>\n",
       "      <th>1</th>\n",
       "      <td>13</td>\n",
       "      <td>1.0</td>\n",
       "      <td>0</td>\n",
       "    </tr>\n",
       "    <tr>\n",
       "      <th>2</th>\n",
       "      <td>10</td>\n",
       "      <td>24.0</td>\n",
       "      <td>0</td>\n",
       "    </tr>\n",
       "    <tr>\n",
       "      <th>3</th>\n",
       "      <td>12</td>\n",
       "      <td>12.0</td>\n",
       "      <td>0</td>\n",
       "    </tr>\n",
       "    <tr>\n",
       "      <th>4</th>\n",
       "      <td>13</td>\n",
       "      <td>4.0</td>\n",
       "      <td>0</td>\n",
       "    </tr>\n",
       "  </tbody>\n",
       "</table>\n",
       "</div>"
      ],
      "text/plain": [
       "   ct_S_code  qty_fillin  predict\n",
       "0         11         5.0        0\n",
       "1         13         1.0        0\n",
       "2         10        24.0        0\n",
       "3         12        12.0        0\n",
       "4         13         4.0        0"
      ]
     },
     "execution_count": 357,
     "metadata": {},
     "output_type": "execute_result"
    }
   ],
   "source": [
    "r = pd.concat([feature,predict],axis=1)\n",
    "r.head()"
   ]
  },
  {
   "cell_type": "raw",
   "metadata": {},
   "source": []
  },
  {
   "cell_type": "code",
   "execution_count": 361,
   "metadata": {},
   "outputs": [
    {
     "data": {
      "image/png": "[encoded data removed]",
      "text/plain": [
       "<Figure size 432x288 with 1 Axes>"
      ]
     },
     "metadata": {
      "needs_background": "light"
     },
     "output_type": "display_data"
    }
   ],
   "source": [
    "plt.scatter(r['ct_S_code'],r['qty_fillin'],c=r['predict'],alpha=0.9)\n",
    "\n",
    "centers = pd.DataFrame(model.cluster_centers_,columns=['ct_S_code','qty_fillin'])\n",
    "\n",
    "center_x = centers['ct_S_code']\n",
    "\n",
    "center_y = centers['qty_fillin']\n",
    "\n",
    "plt.scatter(center_x,center_y,s=50,marker='D',c='r')\n",
    "\n",
    "plt.show()"
   ]
  },
  {
   "cell_type": "code",
   "execution_count": 353,
   "metadata": {},
   "outputs": [],
   "source": [
    "##feature scaling\n",
    "from sklearn.pipeline import make_pipeline\n",
    "\n",
    "from sklearn.preprocessing import StandardScaler\n",
    "\n",
    "from sklearn.cluster import KMeans\n",
    "\n",
    "\n",
    "\n",
    "scaler = StandardScaler()\n",
    "\n",
    "model = KMeans(n_clusters=4)\n",
    "\n",
    "pipeline = make_pipeline(scaler,model)"
   ]
  },
  {
   "cell_type": "code",
   "execution_count": 354,
   "metadata": {},
   "outputs": [],
   "source": [
    "pipeline.fit(feature)\n",
    "\n",
    "predict = pd.DataFrame(pipeline.predict(feature))"
   ]
  },
  {
   "cell_type": "code",
   "execution_count": 349,
   "metadata": {},
   "outputs": [
    {
     "data": {
      "image/png": "[encoded data removed]",
      "text/plain": [
       "<Figure size 432x288 with 1 Axes>"
      ]
     },
     "metadata": {
      "needs_background": "light"
     },
     "output_type": "display_data"
    }
   ],
   "source": [
    "#inertia value를 이용한 적정 군집수 판단\n",
    "ks = range(1,10)\n",
    "\n",
    "inertias = []\n",
    "\n",
    "\n",
    "\n",
    "for k in ks:\n",
    "\n",
    "    model = KMeans(n_clusters=k)\n",
    "\n",
    "    model.fit(feature)\n",
    "\n",
    "    inertias.append(model.inertia_)\n",
    "\n",
    "    \n",
    "\n",
    "# Plot ks vs inertias\n",
    "\n",
    "plt.plot(ks, inertias, '-o')\n",
    "\n",
    "plt.xlabel('number of clusters, k')\n",
    "\n",
    "plt.ylabel('inertia')\n",
    "\n",
    "plt.xticks(ks)\n",
    "\n",
    "plt.show()\n"
   ]
  },
  {
   "cell_type": "markdown",
   "metadata": {},
   "source": [
    "## Hierarchy Clustering Try!"
   ]
  },
  {
   "cell_type": "code",
   "execution_count": 362,
   "metadata": {},
   "outputs": [],
   "source": [
    "from scipy.cluster.hierarchy import linkage, dendrogram\n",
    "import matplotlib.pyplot as plt "
   ]
  },
  {
   "cell_type": "markdown",
   "metadata": {},
   "source": [
    "## recomm model 시뮬레이션 try!"
   ]
  },
  {
   "cell_type": "code",
   "execution_count": 371,
   "metadata": {},
   "outputs": [],
   "source": [
    "import pandas as pd\n",
    "%matplotlib inline\n",
    "import matplotlib\n",
    "import matplotlib.pyplot as plt\n",
    "import numpy as np"
   ]
  },
  {
   "cell_type": "code",
   "execution_count": 384,
   "metadata": {},
   "outputs": [
    {
     "ename": "AttributeError",
     "evalue": "'Series' object has no attribute 'reshape'",
     "output_type": "error",
     "traceback": [
      "\u001b[1;31m---------------------------------------------------------------------------\u001b[0m",
      "\u001b[1;31mAttributeError\u001b[0m                            Traceback (most recent call last)",
      "\u001b[1;32m<ipython-input-384-8975edae9244>\u001b[0m in \u001b[0;36m<module>\u001b[1;34m()\u001b[0m\n\u001b[0;32m      4\u001b[0m \u001b[1;33m\u001b[0m\u001b[0m\n\u001b[0;32m      5\u001b[0m \u001b[1;31m#assigning predictor and target variables\u001b[0m\u001b[1;33m\u001b[0m\u001b[1;33m\u001b[0m\u001b[0m\n\u001b[1;32m----> 6\u001b[1;33m \u001b[0mx\u001b[0m\u001b[1;33m=\u001b[0m \u001b[0mdata\u001b[0m\u001b[1;33m[\u001b[0m\u001b[1;34m'ct_S_code'\u001b[0m\u001b[1;33m]\u001b[0m\u001b[1;33m.\u001b[0m\u001b[0mreshape\u001b[0m\u001b[1;33m(\u001b[0m\u001b[1;33m)\u001b[0m\u001b[1;33m\u001b[0m\u001b[0m\n\u001b[0m\u001b[0;32m      7\u001b[0m \u001b[0mY\u001b[0m \u001b[1;33m=\u001b[0m \u001b[0mdata\u001b[0m\u001b[1;33m[\u001b[0m\u001b[1;34m'qty_fillin'\u001b[0m\u001b[1;33m]\u001b[0m\u001b[1;33m.\u001b[0m\u001b[0mreshape\u001b[0m\u001b[1;33m(\u001b[0m\u001b[1;33m)\u001b[0m\u001b[1;33m\u001b[0m\u001b[0m\n\u001b[0;32m      8\u001b[0m \u001b[1;31m#Create a Gaussian Classifier\u001b[0m\u001b[1;33m\u001b[0m\u001b[1;33m\u001b[0m\u001b[0m\n",
      "\u001b[1;32m~\\AppData\\Local\\Continuum\\anaconda3\\lib\\site-packages\\pandas\\core\\generic.py\u001b[0m in \u001b[0;36m__getattr__\u001b[1;34m(self, name)\u001b[0m\n\u001b[0;32m   4374\u001b[0m             \u001b[1;32mif\u001b[0m \u001b[0mself\u001b[0m\u001b[1;33m.\u001b[0m\u001b[0m_info_axis\u001b[0m\u001b[1;33m.\u001b[0m\u001b[0m_can_hold_identifiers_and_holds_name\u001b[0m\u001b[1;33m(\u001b[0m\u001b[0mname\u001b[0m\u001b[1;33m)\u001b[0m\u001b[1;33m:\u001b[0m\u001b[1;33m\u001b[0m\u001b[0m\n\u001b[0;32m   4375\u001b[0m                 \u001b[1;32mreturn\u001b[0m \u001b[0mself\u001b[0m\u001b[1;33m[\u001b[0m\u001b[0mname\u001b[0m\u001b[1;33m]\u001b[0m\u001b[1;33m\u001b[0m\u001b[0m\n\u001b[1;32m-> 4376\u001b[1;33m             \u001b[1;32mreturn\u001b[0m \u001b[0mobject\u001b[0m\u001b[1;33m.\u001b[0m\u001b[0m__getattribute__\u001b[0m\u001b[1;33m(\u001b[0m\u001b[0mself\u001b[0m\u001b[1;33m,\u001b[0m \u001b[0mname\u001b[0m\u001b[1;33m)\u001b[0m\u001b[1;33m\u001b[0m\u001b[0m\n\u001b[0m\u001b[0;32m   4377\u001b[0m \u001b[1;33m\u001b[0m\u001b[0m\n\u001b[0;32m   4378\u001b[0m     \u001b[1;32mdef\u001b[0m \u001b[0m__setattr__\u001b[0m\u001b[1;33m(\u001b[0m\u001b[0mself\u001b[0m\u001b[1;33m,\u001b[0m \u001b[0mname\u001b[0m\u001b[1;33m,\u001b[0m \u001b[0mvalue\u001b[0m\u001b[1;33m)\u001b[0m\u001b[1;33m:\u001b[0m\u001b[1;33m\u001b[0m\u001b[0m\n",
      "\u001b[1;31mAttributeError\u001b[0m: 'Series' object has no attribute 'reshape'"
     ]
    }
   ],
   "source": [
    "#Import Library of Gaussian Naive Bayes model\n",
    "from sklearn.naive_bayes import GaussianNB\n",
    "import numpy as np\n",
    "\n",
    "#assigning predictor and target variables\n",
    "x= data['ct_S_code'].reshape()\n",
    "Y = data['qty_fillin'].reshape()\n",
    "#Create a Gaussian Classifier\n",
    "model = GaussianNB()\n",
    "\n",
    "# Train the model using the training sets \n",
    "model.fit(x, Y)\n"
   ]
  },
  {
   "cell_type": "code",
   "execution_count": 378,
   "metadata": {},
   "outputs": [
    {
     "name": "stdout",
     "output_type": "stream",
     "text": [
      "[[-3  7]\n",
      " [ 1  5]\n",
      " [ 1  2]\n",
      " [-2  0]\n",
      " [ 2  3]\n",
      " [-4  0]\n",
      " [-1  1]\n",
      " [ 1  1]\n",
      " [-2  2]\n",
      " [ 2  7]\n",
      " [-4  1]\n",
      " [-2  7]]\n",
      "[3 3 3 3 4 3 3 4 3 4 4 4]\n"
     ]
    }
   ],
   "source": [
    "print(x)\n",
    "print(Y)\n",
    "#Predict Output \n",
    "predicted= model.predict([[1,2],[3,4]])\n"
   ]
  },
  {
   "cell_type": "code",
   "execution_count": 376,
   "metadata": {},
   "outputs": [
    {
     "data": {
      "text/plain": [
       "array([3, 4])"
      ]
     },
     "execution_count": 376,
     "metadata": {},
     "output_type": "execute_result"
    }
   ],
   "source": [
    "predicted"
   ]
  },
  {
   "cell_type": "code",
   "execution_count": null,
   "metadata": {},
   "outputs": [],
   "source": [
    "model = NaiveBayesClassifier()\n",
    "model.train(trainfile_path='kor_review.csv')"
   ]
  }
 ],
 "metadata": {
  "kernelspec": {
   "display_name": "Python 3",
   "language": "python",
   "name": "python3"
  },
  "language_info": {
   "codemirror_mode": {
    "name": "ipython",
    "version": 3
   },
   "file_extension": ".py",
   "mimetype": "text/x-python",
   "name": "python",
   "nbconvert_exporter": "python",
   "pygments_lexer": "ipython3",
   "version": "3.7.0"
  }
 },
 "nbformat": 4,
 "nbformat_minor": 2
}
